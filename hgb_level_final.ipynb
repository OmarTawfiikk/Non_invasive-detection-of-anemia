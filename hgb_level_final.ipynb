{
 "cells": [
  {
   "cell_type": "code",
   "execution_count": 41,
   "metadata": {},
   "outputs": [],
   "source": [
    "import os\n",
    "import pandas as pd\n",
    "import numpy as np\n",
    "from sklearn.preprocessing import LabelEncoder, MinMaxScaler\n",
    "from sklearn.model_selection import train_test_split\n",
    "from sklearn.ensemble import RandomForestRegressor\n",
    "from tensorflow.keras.applications import MobileNetV2\n",
    "from tensorflow.keras.layers import Input, Dense, Dropout, concatenate\n",
    "from tensorflow.keras.models import Model\n",
    "from tensorflow.keras.callbacks import EarlyStopping, ReduceLROnPlateau\n",
    "from tensorflow.keras.preprocessing.image import ImageDataGenerator\n",
    "import cv2\n",
    "import matplotlib.pyplot as plt\n",
    "import plotly.express as px\n",
    "import tensorflow as tf\n",
    "import xgboost as xgb\n"
   ]
  },
  {
   "cell_type": "code",
   "execution_count": 2,
   "metadata": {},
   "outputs": [
    {
     "data": {
      "text/html": [
       "<div>\n",
       "<style scoped>\n",
       "    .dataframe tbody tr th:only-of-type {\n",
       "        vertical-align: middle;\n",
       "    }\n",
       "\n",
       "    .dataframe tbody tr th {\n",
       "        vertical-align: top;\n",
       "    }\n",
       "\n",
       "    .dataframe thead th {\n",
       "        text-align: right;\n",
       "    }\n",
       "</style>\n",
       "<table border=\"1\" class=\"dataframe\">\n",
       "  <thead>\n",
       "    <tr style=\"text-align: right;\">\n",
       "      <th></th>\n",
       "      <th>Number</th>\n",
       "      <th>Hgb</th>\n",
       "      <th>Gender</th>\n",
       "      <th>Age</th>\n",
       "    </tr>\n",
       "  </thead>\n",
       "  <tbody>\n",
       "    <tr>\n",
       "      <th>0</th>\n",
       "      <td>1</td>\n",
       "      <td>9.3</td>\n",
       "      <td>F</td>\n",
       "      <td>82</td>\n",
       "    </tr>\n",
       "    <tr>\n",
       "      <th>1</th>\n",
       "      <td>2</td>\n",
       "      <td>10.2</td>\n",
       "      <td>F</td>\n",
       "      <td>77</td>\n",
       "    </tr>\n",
       "    <tr>\n",
       "      <th>2</th>\n",
       "      <td>3</td>\n",
       "      <td>10.7</td>\n",
       "      <td>F</td>\n",
       "      <td>52</td>\n",
       "    </tr>\n",
       "    <tr>\n",
       "      <th>3</th>\n",
       "      <td>4</td>\n",
       "      <td>11.7</td>\n",
       "      <td>F</td>\n",
       "      <td>73</td>\n",
       "    </tr>\n",
       "    <tr>\n",
       "      <th>4</th>\n",
       "      <td>5</td>\n",
       "      <td>11.6</td>\n",
       "      <td>F</td>\n",
       "      <td>74</td>\n",
       "    </tr>\n",
       "    <tr>\n",
       "      <th>...</th>\n",
       "      <td>...</td>\n",
       "      <td>...</td>\n",
       "      <td>...</td>\n",
       "      <td>...</td>\n",
       "    </tr>\n",
       "    <tr>\n",
       "      <th>213</th>\n",
       "      <td>214</td>\n",
       "      <td>13.4</td>\n",
       "      <td>M</td>\n",
       "      <td>21</td>\n",
       "    </tr>\n",
       "    <tr>\n",
       "      <th>214</th>\n",
       "      <td>215</td>\n",
       "      <td>13.7</td>\n",
       "      <td>F</td>\n",
       "      <td>55</td>\n",
       "    </tr>\n",
       "    <tr>\n",
       "      <th>215</th>\n",
       "      <td>216</td>\n",
       "      <td>12.7</td>\n",
       "      <td>M</td>\n",
       "      <td>29</td>\n",
       "    </tr>\n",
       "    <tr>\n",
       "      <th>216</th>\n",
       "      <td>217</td>\n",
       "      <td>11.1</td>\n",
       "      <td>F</td>\n",
       "      <td>53</td>\n",
       "    </tr>\n",
       "    <tr>\n",
       "      <th>217</th>\n",
       "      <td>218</td>\n",
       "      <td>12.4</td>\n",
       "      <td>F</td>\n",
       "      <td>32</td>\n",
       "    </tr>\n",
       "  </tbody>\n",
       "</table>\n",
       "<p>218 rows × 4 columns</p>\n",
       "</div>"
      ],
      "text/plain": [
       "     Number   Hgb Gender  Age\n",
       "0         1   9.3      F   82\n",
       "1         2  10.2      F   77\n",
       "2         3  10.7      F   52\n",
       "3         4  11.7      F   73\n",
       "4         5  11.6      F   74\n",
       "..      ...   ...    ...  ...\n",
       "213     214  13.4      M   21\n",
       "214     215  13.7      F   55\n",
       "215     216  12.7      M   29\n",
       "216     217  11.1      F   53\n",
       "217     218  12.4      F   32\n",
       "\n",
       "[218 rows x 4 columns]"
      ]
     },
     "execution_count": 2,
     "metadata": {},
     "output_type": "execute_result"
    }
   ],
   "source": [
    "FILE_PATH = os.path.join(os.getcwd() ,'all.Xlsx')\n",
    "df = pd.read_excel(FILE_PATH)\n",
    "df"
   ]
  },
  {
   "cell_type": "code",
   "execution_count": 3,
   "metadata": {},
   "outputs": [
    {
     "data": {
      "text/html": [
       "<div>\n",
       "<style scoped>\n",
       "    .dataframe tbody tr th:only-of-type {\n",
       "        vertical-align: middle;\n",
       "    }\n",
       "\n",
       "    .dataframe tbody tr th {\n",
       "        vertical-align: top;\n",
       "    }\n",
       "\n",
       "    .dataframe thead th {\n",
       "        text-align: right;\n",
       "    }\n",
       "</style>\n",
       "<table border=\"1\" class=\"dataframe\">\n",
       "  <thead>\n",
       "    <tr style=\"text-align: right;\">\n",
       "      <th></th>\n",
       "      <th>Number</th>\n",
       "      <th>Hgb</th>\n",
       "      <th>Age</th>\n",
       "      <th>gender</th>\n",
       "    </tr>\n",
       "  </thead>\n",
       "  <tbody>\n",
       "    <tr>\n",
       "      <th>0</th>\n",
       "      <td>1</td>\n",
       "      <td>9.3</td>\n",
       "      <td>82</td>\n",
       "      <td>0</td>\n",
       "    </tr>\n",
       "    <tr>\n",
       "      <th>1</th>\n",
       "      <td>2</td>\n",
       "      <td>10.2</td>\n",
       "      <td>77</td>\n",
       "      <td>0</td>\n",
       "    </tr>\n",
       "    <tr>\n",
       "      <th>2</th>\n",
       "      <td>3</td>\n",
       "      <td>10.7</td>\n",
       "      <td>52</td>\n",
       "      <td>0</td>\n",
       "    </tr>\n",
       "    <tr>\n",
       "      <th>3</th>\n",
       "      <td>4</td>\n",
       "      <td>11.7</td>\n",
       "      <td>73</td>\n",
       "      <td>0</td>\n",
       "    </tr>\n",
       "    <tr>\n",
       "      <th>4</th>\n",
       "      <td>5</td>\n",
       "      <td>11.6</td>\n",
       "      <td>74</td>\n",
       "      <td>0</td>\n",
       "    </tr>\n",
       "    <tr>\n",
       "      <th>...</th>\n",
       "      <td>...</td>\n",
       "      <td>...</td>\n",
       "      <td>...</td>\n",
       "      <td>...</td>\n",
       "    </tr>\n",
       "    <tr>\n",
       "      <th>213</th>\n",
       "      <td>214</td>\n",
       "      <td>13.4</td>\n",
       "      <td>21</td>\n",
       "      <td>1</td>\n",
       "    </tr>\n",
       "    <tr>\n",
       "      <th>214</th>\n",
       "      <td>215</td>\n",
       "      <td>13.7</td>\n",
       "      <td>55</td>\n",
       "      <td>0</td>\n",
       "    </tr>\n",
       "    <tr>\n",
       "      <th>215</th>\n",
       "      <td>216</td>\n",
       "      <td>12.7</td>\n",
       "      <td>29</td>\n",
       "      <td>1</td>\n",
       "    </tr>\n",
       "    <tr>\n",
       "      <th>216</th>\n",
       "      <td>217</td>\n",
       "      <td>11.1</td>\n",
       "      <td>53</td>\n",
       "      <td>0</td>\n",
       "    </tr>\n",
       "    <tr>\n",
       "      <th>217</th>\n",
       "      <td>218</td>\n",
       "      <td>12.4</td>\n",
       "      <td>32</td>\n",
       "      <td>0</td>\n",
       "    </tr>\n",
       "  </tbody>\n",
       "</table>\n",
       "<p>218 rows × 4 columns</p>\n",
       "</div>"
      ],
      "text/plain": [
       "     Number   Hgb  Age  gender\n",
       "0         1   9.3   82       0\n",
       "1         2  10.2   77       0\n",
       "2         3  10.7   52       0\n",
       "3         4  11.7   73       0\n",
       "4         5  11.6   74       0\n",
       "..      ...   ...  ...     ...\n",
       "213     214  13.4   21       1\n",
       "214     215  13.7   55       0\n",
       "215     216  12.7   29       1\n",
       "216     217  11.1   53       0\n",
       "217     218  12.4   32       0\n",
       "\n",
       "[218 rows x 4 columns]"
      ]
     },
     "execution_count": 3,
     "metadata": {},
     "output_type": "execute_result"
    }
   ],
   "source": [
    "#0 = f , 1 = m\n",
    "label_encoder = LabelEncoder()\n",
    "df['gender'] = label_encoder.fit_transform(df['Gender'])\n",
    "df=df.drop(columns=['Gender'])\n",
    "df"
   ]
  },
  {
   "cell_type": "code",
   "execution_count": 4,
   "metadata": {},
   "outputs": [
    {
     "data": {
      "text/plain": [
       "Number    0\n",
       "Hgb       1\n",
       "Age       0\n",
       "gender    0\n",
       "dtype: int64"
      ]
     },
     "execution_count": 4,
     "metadata": {},
     "output_type": "execute_result"
    }
   ],
   "source": [
    "df.isna().sum()"
   ]
  },
  {
   "cell_type": "code",
   "execution_count": 5,
   "metadata": {},
   "outputs": [],
   "source": [
    "df=df.dropna()"
   ]
  },
  {
   "cell_type": "code",
   "execution_count": 6,
   "metadata": {},
   "outputs": [
    {
     "data": {
      "text/plain": [
       "Number    0\n",
       "Hgb       0\n",
       "Age       0\n",
       "gender    0\n",
       "dtype: int64"
      ]
     },
     "execution_count": 6,
     "metadata": {},
     "output_type": "execute_result"
    }
   ],
   "source": [
    "df.isna().sum()"
   ]
  },
  {
   "cell_type": "code",
   "execution_count": 7,
   "metadata": {},
   "outputs": [
    {
     "data": {
      "text/html": [
       "<div>\n",
       "<style scoped>\n",
       "    .dataframe tbody tr th:only-of-type {\n",
       "        vertical-align: middle;\n",
       "    }\n",
       "\n",
       "    .dataframe tbody tr th {\n",
       "        vertical-align: top;\n",
       "    }\n",
       "\n",
       "    .dataframe thead th {\n",
       "        text-align: right;\n",
       "    }\n",
       "</style>\n",
       "<table border=\"1\" class=\"dataframe\">\n",
       "  <thead>\n",
       "    <tr style=\"text-align: right;\">\n",
       "      <th></th>\n",
       "      <th>Number</th>\n",
       "      <th>Hgb</th>\n",
       "      <th>Age</th>\n",
       "      <th>gender</th>\n",
       "    </tr>\n",
       "  </thead>\n",
       "  <tbody>\n",
       "  </tbody>\n",
       "</table>\n",
       "</div>"
      ],
      "text/plain": [
       "Empty DataFrame\n",
       "Columns: [Number, Hgb, Age, gender]\n",
       "Index: []"
      ]
     },
     "execution_count": 7,
     "metadata": {},
     "output_type": "execute_result"
    }
   ],
   "source": [
    "#remord number 93 since it doesn't contain hemoglobin level ,, we will not upload the photo to the model also\n",
    "df[df['Number'] ==93]"
   ]
  },
  {
   "cell_type": "code",
   "execution_count": 8,
   "metadata": {},
   "outputs": [
    {
     "name": "stdout",
     "output_type": "stream",
     "text": [
      "<class 'pandas.core.frame.DataFrame'>\n",
      "Index: 217 entries, 0 to 217\n",
      "Data columns (total 4 columns):\n",
      " #   Column  Non-Null Count  Dtype  \n",
      "---  ------  --------------  -----  \n",
      " 0   Number  217 non-null    int64  \n",
      " 1   Hgb     217 non-null    float64\n",
      " 2   Age     217 non-null    int64  \n",
      " 3   gender  217 non-null    int32  \n",
      "dtypes: float64(1), int32(1), int64(2)\n",
      "memory usage: 7.6 KB\n"
     ]
    }
   ],
   "source": [
    "df.info()"
   ]
  },
  {
   "cell_type": "code",
   "execution_count": 9,
   "metadata": {},
   "outputs": [
    {
     "data": {
      "text/html": [
       "<div>\n",
       "<style scoped>\n",
       "    .dataframe tbody tr th:only-of-type {\n",
       "        vertical-align: middle;\n",
       "    }\n",
       "\n",
       "    .dataframe tbody tr th {\n",
       "        vertical-align: top;\n",
       "    }\n",
       "\n",
       "    .dataframe thead th {\n",
       "        text-align: right;\n",
       "    }\n",
       "</style>\n",
       "<table border=\"1\" class=\"dataframe\">\n",
       "  <thead>\n",
       "    <tr style=\"text-align: right;\">\n",
       "      <th></th>\n",
       "      <th>Number</th>\n",
       "      <th>Hgb</th>\n",
       "      <th>Age</th>\n",
       "      <th>gender</th>\n",
       "    </tr>\n",
       "  </thead>\n",
       "  <tbody>\n",
       "    <tr>\n",
       "      <th>count</th>\n",
       "      <td>217.000000</td>\n",
       "      <td>217.000000</td>\n",
       "      <td>217.000000</td>\n",
       "      <td>217.000000</td>\n",
       "    </tr>\n",
       "    <tr>\n",
       "      <th>mean</th>\n",
       "      <td>109.576037</td>\n",
       "      <td>12.797097</td>\n",
       "      <td>42.433180</td>\n",
       "      <td>0.603687</td>\n",
       "    </tr>\n",
       "    <tr>\n",
       "      <th>std</th>\n",
       "      <td>63.211176</td>\n",
       "      <td>2.362605</td>\n",
       "      <td>16.757707</td>\n",
       "      <td>0.490262</td>\n",
       "    </tr>\n",
       "    <tr>\n",
       "      <th>min</th>\n",
       "      <td>1.000000</td>\n",
       "      <td>7.000000</td>\n",
       "      <td>19.000000</td>\n",
       "      <td>0.000000</td>\n",
       "    </tr>\n",
       "    <tr>\n",
       "      <th>25%</th>\n",
       "      <td>55.000000</td>\n",
       "      <td>11.000000</td>\n",
       "      <td>29.000000</td>\n",
       "      <td>0.000000</td>\n",
       "    </tr>\n",
       "    <tr>\n",
       "      <th>50%</th>\n",
       "      <td>110.000000</td>\n",
       "      <td>13.200000</td>\n",
       "      <td>40.000000</td>\n",
       "      <td>1.000000</td>\n",
       "    </tr>\n",
       "    <tr>\n",
       "      <th>75%</th>\n",
       "      <td>164.000000</td>\n",
       "      <td>14.900000</td>\n",
       "      <td>54.000000</td>\n",
       "      <td>1.000000</td>\n",
       "    </tr>\n",
       "    <tr>\n",
       "      <th>max</th>\n",
       "      <td>218.000000</td>\n",
       "      <td>17.400000</td>\n",
       "      <td>88.000000</td>\n",
       "      <td>1.000000</td>\n",
       "    </tr>\n",
       "  </tbody>\n",
       "</table>\n",
       "</div>"
      ],
      "text/plain": [
       "           Number         Hgb         Age      gender\n",
       "count  217.000000  217.000000  217.000000  217.000000\n",
       "mean   109.576037   12.797097   42.433180    0.603687\n",
       "std     63.211176    2.362605   16.757707    0.490262\n",
       "min      1.000000    7.000000   19.000000    0.000000\n",
       "25%     55.000000   11.000000   29.000000    0.000000\n",
       "50%    110.000000   13.200000   40.000000    1.000000\n",
       "75%    164.000000   14.900000   54.000000    1.000000\n",
       "max    218.000000   17.400000   88.000000    1.000000"
      ]
     },
     "execution_count": 9,
     "metadata": {},
     "output_type": "execute_result"
    }
   ],
   "source": [
    "df.describe()"
   ]
  },
  {
   "cell_type": "code",
   "execution_count": 10,
   "metadata": {},
   "outputs": [
    {
     "data": {
      "text/plain": [
       "count    217.000000\n",
       "mean      12.797097\n",
       "std        2.362605\n",
       "min        7.000000\n",
       "25%       11.000000\n",
       "50%       13.200000\n",
       "75%       14.900000\n",
       "max       17.400000\n",
       "Name: Hgb, dtype: float64"
      ]
     },
     "execution_count": 10,
     "metadata": {},
     "output_type": "execute_result"
    }
   ],
   "source": [
    "df['Hgb'].describe()"
   ]
  },
  {
   "cell_type": "code",
   "execution_count": 11,
   "metadata": {},
   "outputs": [
    {
     "data": {
      "application/vnd.plotly.v1+json": {
       "config": {
        "plotlyServerURL": "https://plot.ly"
       },
       "data": [
        {
         "hovertemplate": "Age=%{x}<br>Hemoglobin (Hgb)=%{y}<br>gender=%{marker.color}<extra></extra>",
         "legendgroup": "",
         "marker": {
          "color": [
           0,
           0,
           0,
           0,
           0,
           0,
           0,
           1,
           1,
           1,
           0,
           0,
           0,
           0,
           0,
           1,
           1,
           0,
           0,
           1,
           0,
           1,
           1,
           1,
           1,
           1,
           1,
           1,
           0,
           0,
           0,
           0,
           0,
           1,
           1,
           1,
           0,
           1,
           1,
           0,
           0,
           1,
           1,
           1,
           1,
           1,
           1,
           1,
           1,
           0,
           1,
           0,
           1,
           1,
           1,
           0,
           0,
           1,
           1,
           1,
           1,
           0,
           1,
           1,
           1,
           1,
           1,
           1,
           1,
           1,
           1,
           1,
           0,
           1,
           0,
           0,
           1,
           1,
           1,
           0,
           1,
           1,
           1,
           1,
           0,
           1,
           1,
           0,
           1,
           0,
           1,
           0,
           1,
           1,
           1,
           1,
           1,
           1,
           0,
           1,
           1,
           1,
           1,
           0,
           1,
           0,
           1,
           1,
           1,
           1,
           1,
           1,
           1,
           1,
           1,
           1,
           1,
           1,
           1,
           0,
           1,
           1,
           1,
           0,
           0,
           0,
           0,
           0,
           0,
           1,
           1,
           0,
           1,
           1,
           0,
           0,
           0,
           0,
           1,
           1,
           1,
           1,
           1,
           1,
           0,
           0,
           0,
           0,
           0,
           1,
           1,
           1,
           1,
           1,
           1,
           0,
           0,
           0,
           1,
           1,
           1,
           0,
           1,
           0,
           1,
           1,
           0,
           0,
           1,
           1,
           0,
           0,
           1,
           1,
           1,
           1,
           1,
           0,
           0,
           1,
           0,
           1,
           0,
           1,
           0,
           0,
           1,
           1,
           1,
           1,
           1,
           0,
           1,
           1,
           0,
           0,
           0,
           0,
           0,
           0,
           1,
           0,
           0,
           0,
           1,
           0,
           1,
           0,
           1,
           1,
           1,
           1,
           1,
           0,
           1,
           0,
           0
          ],
          "coloraxis": "coloraxis",
          "symbol": "circle"
         },
         "mode": "markers",
         "name": "",
         "orientation": "v",
         "showlegend": false,
         "type": "scatter",
         "x": [
          82,
          77,
          52,
          73,
          74,
          77,
          72,
          84,
          61,
          70,
          81,
          88,
          82,
          65,
          86,
          55,
          78,
          77,
          65,
          30,
          46,
          65,
          57,
          56,
          53,
          60,
          59,
          22,
          76,
          70,
          54,
          40,
          34,
          53,
          36,
          51,
          51,
          56,
          47,
          46,
          36,
          49,
          59,
          26,
          50,
          58,
          20,
          29,
          33,
          40,
          54,
          24,
          43,
          42,
          34,
          24,
          51,
          56,
          62,
          41,
          50,
          40,
          54,
          52,
          63,
          55,
          48,
          55,
          51,
          37,
          20,
          48,
          56,
          48,
          48,
          48,
          60,
          25,
          31,
          40,
          64,
          24,
          25,
          46,
          42,
          48,
          51,
          38,
          44,
          21,
          41,
          52,
          34,
          31,
          45,
          49,
          54,
          44,
          63,
          28,
          40,
          59,
          45,
          26,
          68,
          40,
          21,
          59,
          45,
          37,
          57,
          58,
          39,
          43,
          28,
          47,
          48,
          41,
          22,
          40,
          33,
          48,
          29,
          36,
          30,
          39,
          29,
          55,
          27,
          32,
          32,
          35,
          38,
          75,
          71,
          29,
          30,
          37,
          57,
          32,
          21,
          21,
          21,
          21,
          21,
          23,
          30,
          39,
          48,
          20,
          21,
          21,
          20,
          21,
          21,
          20,
          21,
          20,
          22,
          21,
          32,
          29,
          50,
          19,
          32,
          62,
          27,
          49,
          29,
          39,
          41,
          33,
          34,
          42,
          32,
          45,
          65,
          55,
          33,
          36,
          31,
          33,
          32,
          27,
          27,
          62,
          32,
          21,
          20,
          21,
          21,
          21,
          20,
          39,
          50,
          37,
          37,
          30,
          48,
          40,
          29,
          50,
          25,
          47,
          21,
          32,
          63,
          30,
          24,
          23,
          23,
          23,
          21,
          55,
          29,
          53,
          32
         ],
         "xaxis": "x",
         "y": [
          9.3,
          10.2,
          10.7,
          11.7,
          11.6,
          15,
          12,
          14.3,
          9.8,
          12.2,
          12,
          10,
          10.5,
          11.4,
          13.3,
          13.5,
          11,
          11.75,
          11,
          13.62,
          9.82,
          12.6,
          9.6,
          9.2,
          8.7,
          8.6,
          9.35,
          15.45,
          10.93,
          12.68,
          14.77,
          14.1,
          13.9,
          14.1,
          15.7,
          13.9,
          13.6,
          15.4,
          13.7,
          13.3,
          13.9,
          15,
          14.7,
          15.4,
          14.9,
          14.1,
          14.1,
          16.1,
          15.1,
          15.3,
          13.9,
          14.4,
          15.1,
          15.3,
          16.9,
          13.2,
          13.5,
          15,
          15.5,
          15.6,
          15,
          13,
          14.9,
          17.4,
          13.8,
          15.9,
          16.2,
          15.5,
          14.1,
          15.3,
          13.7,
          15.4,
          12.3,
          12.9,
          13.5,
          13.7,
          16.8,
          15.4,
          14.7,
          13.5,
          15.6,
          14.8,
          14.8,
          14.9,
          12.4,
          16.9,
          15.6,
          13.7,
          15.4,
          13,
          15.4,
          12.3,
          15.2,
          13.8,
          14.7,
          15.1,
          15.2,
          15.5,
          14.5,
          14,
          15.8,
          14.1,
          16.5,
          7,
          15.5,
          13,
          13.5,
          15.7,
          15.8,
          13.1,
          15.4,
          14,
          15.1,
          15.4,
          13.7,
          15.1,
          15.2,
          16.7,
          15.4,
          12.8,
          15.7,
          15.6,
          12.2,
          8,
          10.7,
          8.3,
          7.8,
          11.8,
          9.2,
          13,
          11.5,
          11.3,
          13.2,
          10.6,
          10.6,
          9.1,
          10.9,
          8.9,
          11.5,
          10.1,
          12.6,
          11.9,
          14.8,
          10.7,
          9.8,
          13.4,
          9.2,
          7.6,
          12.2,
          11.2,
          12.4,
          11.2,
          12.6,
          11.3,
          11.3,
          11.4,
          8.7,
          9.7,
          12.7,
          11.1,
          15.2,
          8.2,
          11.7,
          8.1,
          12.6,
          9.6,
          10,
          10,
          14.3,
          13.6,
          9.7,
          8.1,
          12.9,
          13.4,
          13.8,
          15.5,
          10.5,
          8.8,
          10.3,
          12.5,
          10.6,
          12.2,
          10.8,
          11.3,
          9.9,
          9.2,
          13.8,
          13.8,
          14,
          12,
          17.1,
          10.6,
          15,
          12.7,
          12.3,
          9.1,
          12.2,
          9.3,
          8.5,
          10.3,
          16.4,
          10.5,
          11,
          10.9,
          13.7,
          9.5,
          14.5,
          8.5,
          13.7,
          14.2,
          13.7,
          11.9,
          13.4,
          13.7,
          12.7,
          11.1,
          12.4
         ],
         "yaxis": "y"
        }
       ],
       "layout": {
        "coloraxis": {
         "colorbar": {
          "title": {
           "text": "gender"
          }
         },
         "colorscale": [
          [
           0,
           "#0d0887"
          ],
          [
           0.1111111111111111,
           "#46039f"
          ],
          [
           0.2222222222222222,
           "#7201a8"
          ],
          [
           0.3333333333333333,
           "#9c179e"
          ],
          [
           0.4444444444444444,
           "#bd3786"
          ],
          [
           0.5555555555555556,
           "#d8576b"
          ],
          [
           0.6666666666666666,
           "#ed7953"
          ],
          [
           0.7777777777777778,
           "#fb9f3a"
          ],
          [
           0.8888888888888888,
           "#fdca26"
          ],
          [
           1,
           "#f0f921"
          ]
         ]
        },
        "legend": {
         "tracegroupgap": 0
        },
        "template": {
         "data": {
          "bar": [
           {
            "error_x": {
             "color": "#2a3f5f"
            },
            "error_y": {
             "color": "#2a3f5f"
            },
            "marker": {
             "line": {
              "color": "#E5ECF6",
              "width": 0.5
             },
             "pattern": {
              "fillmode": "overlay",
              "size": 10,
              "solidity": 0.2
             }
            },
            "type": "bar"
           }
          ],
          "barpolar": [
           {
            "marker": {
             "line": {
              "color": "#E5ECF6",
              "width": 0.5
             },
             "pattern": {
              "fillmode": "overlay",
              "size": 10,
              "solidity": 0.2
             }
            },
            "type": "barpolar"
           }
          ],
          "carpet": [
           {
            "aaxis": {
             "endlinecolor": "#2a3f5f",
             "gridcolor": "white",
             "linecolor": "white",
             "minorgridcolor": "white",
             "startlinecolor": "#2a3f5f"
            },
            "baxis": {
             "endlinecolor": "#2a3f5f",
             "gridcolor": "white",
             "linecolor": "white",
             "minorgridcolor": "white",
             "startlinecolor": "#2a3f5f"
            },
            "type": "carpet"
           }
          ],
          "choropleth": [
           {
            "colorbar": {
             "outlinewidth": 0,
             "ticks": ""
            },
            "type": "choropleth"
           }
          ],
          "contour": [
           {
            "colorbar": {
             "outlinewidth": 0,
             "ticks": ""
            },
            "colorscale": [
             [
              0,
              "#0d0887"
             ],
             [
              0.1111111111111111,
              "#46039f"
             ],
             [
              0.2222222222222222,
              "#7201a8"
             ],
             [
              0.3333333333333333,
              "#9c179e"
             ],
             [
              0.4444444444444444,
              "#bd3786"
             ],
             [
              0.5555555555555556,
              "#d8576b"
             ],
             [
              0.6666666666666666,
              "#ed7953"
             ],
             [
              0.7777777777777778,
              "#fb9f3a"
             ],
             [
              0.8888888888888888,
              "#fdca26"
             ],
             [
              1,
              "#f0f921"
             ]
            ],
            "type": "contour"
           }
          ],
          "contourcarpet": [
           {
            "colorbar": {
             "outlinewidth": 0,
             "ticks": ""
            },
            "type": "contourcarpet"
           }
          ],
          "heatmap": [
           {
            "colorbar": {
             "outlinewidth": 0,
             "ticks": ""
            },
            "colorscale": [
             [
              0,
              "#0d0887"
             ],
             [
              0.1111111111111111,
              "#46039f"
             ],
             [
              0.2222222222222222,
              "#7201a8"
             ],
             [
              0.3333333333333333,
              "#9c179e"
             ],
             [
              0.4444444444444444,
              "#bd3786"
             ],
             [
              0.5555555555555556,
              "#d8576b"
             ],
             [
              0.6666666666666666,
              "#ed7953"
             ],
             [
              0.7777777777777778,
              "#fb9f3a"
             ],
             [
              0.8888888888888888,
              "#fdca26"
             ],
             [
              1,
              "#f0f921"
             ]
            ],
            "type": "heatmap"
           }
          ],
          "heatmapgl": [
           {
            "colorbar": {
             "outlinewidth": 0,
             "ticks": ""
            },
            "colorscale": [
             [
              0,
              "#0d0887"
             ],
             [
              0.1111111111111111,
              "#46039f"
             ],
             [
              0.2222222222222222,
              "#7201a8"
             ],
             [
              0.3333333333333333,
              "#9c179e"
             ],
             [
              0.4444444444444444,
              "#bd3786"
             ],
             [
              0.5555555555555556,
              "#d8576b"
             ],
             [
              0.6666666666666666,
              "#ed7953"
             ],
             [
              0.7777777777777778,
              "#fb9f3a"
             ],
             [
              0.8888888888888888,
              "#fdca26"
             ],
             [
              1,
              "#f0f921"
             ]
            ],
            "type": "heatmapgl"
           }
          ],
          "histogram": [
           {
            "marker": {
             "pattern": {
              "fillmode": "overlay",
              "size": 10,
              "solidity": 0.2
             }
            },
            "type": "histogram"
           }
          ],
          "histogram2d": [
           {
            "colorbar": {
             "outlinewidth": 0,
             "ticks": ""
            },
            "colorscale": [
             [
              0,
              "#0d0887"
             ],
             [
              0.1111111111111111,
              "#46039f"
             ],
             [
              0.2222222222222222,
              "#7201a8"
             ],
             [
              0.3333333333333333,
              "#9c179e"
             ],
             [
              0.4444444444444444,
              "#bd3786"
             ],
             [
              0.5555555555555556,
              "#d8576b"
             ],
             [
              0.6666666666666666,
              "#ed7953"
             ],
             [
              0.7777777777777778,
              "#fb9f3a"
             ],
             [
              0.8888888888888888,
              "#fdca26"
             ],
             [
              1,
              "#f0f921"
             ]
            ],
            "type": "histogram2d"
           }
          ],
          "histogram2dcontour": [
           {
            "colorbar": {
             "outlinewidth": 0,
             "ticks": ""
            },
            "colorscale": [
             [
              0,
              "#0d0887"
             ],
             [
              0.1111111111111111,
              "#46039f"
             ],
             [
              0.2222222222222222,
              "#7201a8"
             ],
             [
              0.3333333333333333,
              "#9c179e"
             ],
             [
              0.4444444444444444,
              "#bd3786"
             ],
             [
              0.5555555555555556,
              "#d8576b"
             ],
             [
              0.6666666666666666,
              "#ed7953"
             ],
             [
              0.7777777777777778,
              "#fb9f3a"
             ],
             [
              0.8888888888888888,
              "#fdca26"
             ],
             [
              1,
              "#f0f921"
             ]
            ],
            "type": "histogram2dcontour"
           }
          ],
          "mesh3d": [
           {
            "colorbar": {
             "outlinewidth": 0,
             "ticks": ""
            },
            "type": "mesh3d"
           }
          ],
          "parcoords": [
           {
            "line": {
             "colorbar": {
              "outlinewidth": 0,
              "ticks": ""
             }
            },
            "type": "parcoords"
           }
          ],
          "pie": [
           {
            "automargin": true,
            "type": "pie"
           }
          ],
          "scatter": [
           {
            "fillpattern": {
             "fillmode": "overlay",
             "size": 10,
             "solidity": 0.2
            },
            "type": "scatter"
           }
          ],
          "scatter3d": [
           {
            "line": {
             "colorbar": {
              "outlinewidth": 0,
              "ticks": ""
             }
            },
            "marker": {
             "colorbar": {
              "outlinewidth": 0,
              "ticks": ""
             }
            },
            "type": "scatter3d"
           }
          ],
          "scattercarpet": [
           {
            "marker": {
             "colorbar": {
              "outlinewidth": 0,
              "ticks": ""
             }
            },
            "type": "scattercarpet"
           }
          ],
          "scattergeo": [
           {
            "marker": {
             "colorbar": {
              "outlinewidth": 0,
              "ticks": ""
             }
            },
            "type": "scattergeo"
           }
          ],
          "scattergl": [
           {
            "marker": {
             "colorbar": {
              "outlinewidth": 0,
              "ticks": ""
             }
            },
            "type": "scattergl"
           }
          ],
          "scattermapbox": [
           {
            "marker": {
             "colorbar": {
              "outlinewidth": 0,
              "ticks": ""
             }
            },
            "type": "scattermapbox"
           }
          ],
          "scatterpolar": [
           {
            "marker": {
             "colorbar": {
              "outlinewidth": 0,
              "ticks": ""
             }
            },
            "type": "scatterpolar"
           }
          ],
          "scatterpolargl": [
           {
            "marker": {
             "colorbar": {
              "outlinewidth": 0,
              "ticks": ""
             }
            },
            "type": "scatterpolargl"
           }
          ],
          "scatterternary": [
           {
            "marker": {
             "colorbar": {
              "outlinewidth": 0,
              "ticks": ""
             }
            },
            "type": "scatterternary"
           }
          ],
          "surface": [
           {
            "colorbar": {
             "outlinewidth": 0,
             "ticks": ""
            },
            "colorscale": [
             [
              0,
              "#0d0887"
             ],
             [
              0.1111111111111111,
              "#46039f"
             ],
             [
              0.2222222222222222,
              "#7201a8"
             ],
             [
              0.3333333333333333,
              "#9c179e"
             ],
             [
              0.4444444444444444,
              "#bd3786"
             ],
             [
              0.5555555555555556,
              "#d8576b"
             ],
             [
              0.6666666666666666,
              "#ed7953"
             ],
             [
              0.7777777777777778,
              "#fb9f3a"
             ],
             [
              0.8888888888888888,
              "#fdca26"
             ],
             [
              1,
              "#f0f921"
             ]
            ],
            "type": "surface"
           }
          ],
          "table": [
           {
            "cells": {
             "fill": {
              "color": "#EBF0F8"
             },
             "line": {
              "color": "white"
             }
            },
            "header": {
             "fill": {
              "color": "#C8D4E3"
             },
             "line": {
              "color": "white"
             }
            },
            "type": "table"
           }
          ]
         },
         "layout": {
          "annotationdefaults": {
           "arrowcolor": "#2a3f5f",
           "arrowhead": 0,
           "arrowwidth": 1
          },
          "autotypenumbers": "strict",
          "coloraxis": {
           "colorbar": {
            "outlinewidth": 0,
            "ticks": ""
           }
          },
          "colorscale": {
           "diverging": [
            [
             0,
             "#8e0152"
            ],
            [
             0.1,
             "#c51b7d"
            ],
            [
             0.2,
             "#de77ae"
            ],
            [
             0.3,
             "#f1b6da"
            ],
            [
             0.4,
             "#fde0ef"
            ],
            [
             0.5,
             "#f7f7f7"
            ],
            [
             0.6,
             "#e6f5d0"
            ],
            [
             0.7,
             "#b8e186"
            ],
            [
             0.8,
             "#7fbc41"
            ],
            [
             0.9,
             "#4d9221"
            ],
            [
             1,
             "#276419"
            ]
           ],
           "sequential": [
            [
             0,
             "#0d0887"
            ],
            [
             0.1111111111111111,
             "#46039f"
            ],
            [
             0.2222222222222222,
             "#7201a8"
            ],
            [
             0.3333333333333333,
             "#9c179e"
            ],
            [
             0.4444444444444444,
             "#bd3786"
            ],
            [
             0.5555555555555556,
             "#d8576b"
            ],
            [
             0.6666666666666666,
             "#ed7953"
            ],
            [
             0.7777777777777778,
             "#fb9f3a"
            ],
            [
             0.8888888888888888,
             "#fdca26"
            ],
            [
             1,
             "#f0f921"
            ]
           ],
           "sequentialminus": [
            [
             0,
             "#0d0887"
            ],
            [
             0.1111111111111111,
             "#46039f"
            ],
            [
             0.2222222222222222,
             "#7201a8"
            ],
            [
             0.3333333333333333,
             "#9c179e"
            ],
            [
             0.4444444444444444,
             "#bd3786"
            ],
            [
             0.5555555555555556,
             "#d8576b"
            ],
            [
             0.6666666666666666,
             "#ed7953"
            ],
            [
             0.7777777777777778,
             "#fb9f3a"
            ],
            [
             0.8888888888888888,
             "#fdca26"
            ],
            [
             1,
             "#f0f921"
            ]
           ]
          },
          "colorway": [
           "#636efa",
           "#EF553B",
           "#00cc96",
           "#ab63fa",
           "#FFA15A",
           "#19d3f3",
           "#FF6692",
           "#B6E880",
           "#FF97FF",
           "#FECB52"
          ],
          "font": {
           "color": "#2a3f5f"
          },
          "geo": {
           "bgcolor": "white",
           "lakecolor": "white",
           "landcolor": "#E5ECF6",
           "showlakes": true,
           "showland": true,
           "subunitcolor": "white"
          },
          "hoverlabel": {
           "align": "left"
          },
          "hovermode": "closest",
          "mapbox": {
           "style": "light"
          },
          "paper_bgcolor": "white",
          "plot_bgcolor": "#E5ECF6",
          "polar": {
           "angularaxis": {
            "gridcolor": "white",
            "linecolor": "white",
            "ticks": ""
           },
           "bgcolor": "#E5ECF6",
           "radialaxis": {
            "gridcolor": "white",
            "linecolor": "white",
            "ticks": ""
           }
          },
          "scene": {
           "xaxis": {
            "backgroundcolor": "#E5ECF6",
            "gridcolor": "white",
            "gridwidth": 2,
            "linecolor": "white",
            "showbackground": true,
            "ticks": "",
            "zerolinecolor": "white"
           },
           "yaxis": {
            "backgroundcolor": "#E5ECF6",
            "gridcolor": "white",
            "gridwidth": 2,
            "linecolor": "white",
            "showbackground": true,
            "ticks": "",
            "zerolinecolor": "white"
           },
           "zaxis": {
            "backgroundcolor": "#E5ECF6",
            "gridcolor": "white",
            "gridwidth": 2,
            "linecolor": "white",
            "showbackground": true,
            "ticks": "",
            "zerolinecolor": "white"
           }
          },
          "shapedefaults": {
           "line": {
            "color": "#2a3f5f"
           }
          },
          "ternary": {
           "aaxis": {
            "gridcolor": "white",
            "linecolor": "white",
            "ticks": ""
           },
           "baxis": {
            "gridcolor": "white",
            "linecolor": "white",
            "ticks": ""
           },
           "bgcolor": "#E5ECF6",
           "caxis": {
            "gridcolor": "white",
            "linecolor": "white",
            "ticks": ""
           }
          },
          "title": {
           "x": 0.05
          },
          "xaxis": {
           "automargin": true,
           "gridcolor": "white",
           "linecolor": "white",
           "ticks": "",
           "title": {
            "standoff": 15
           },
           "zerolinecolor": "white",
           "zerolinewidth": 2
          },
          "yaxis": {
           "automargin": true,
           "gridcolor": "white",
           "linecolor": "white",
           "ticks": "",
           "title": {
            "standoff": 15
           },
           "zerolinecolor": "white",
           "zerolinewidth": 2
          }
         }
        },
        "title": {
         "text": "Scatter Plot: Age vs. Hemoglobin (Hgb)"
        },
        "xaxis": {
         "anchor": "y",
         "domain": [
          0,
          1
         ],
         "title": {
          "text": "Age"
         }
        },
        "yaxis": {
         "anchor": "x",
         "domain": [
          0,
          1
         ],
         "title": {
          "text": "Hemoglobin (Hgb)"
         }
        }
       }
      }
     },
     "metadata": {},
     "output_type": "display_data"
    }
   ],
   "source": [
    "scatter_fig = px.scatter(\n",
    "    df, \n",
    "    x='Age', \n",
    "    y='Hgb', \n",
    "    color='gender',\n",
    "    title='Scatter Plot: Age vs. Hemoglobin (Hgb)',\n",
    "    labels={'Age': 'Age', 'Hgb': 'Hemoglobin (Hgb)'}\n",
    ")\n",
    "scatter_fig.show()\n"
   ]
  },
  {
   "cell_type": "code",
   "execution_count": 12,
   "metadata": {},
   "outputs": [
    {
     "data": {
      "application/vnd.plotly.v1+json": {
       "config": {
        "plotlyServerURL": "https://plot.ly"
       },
       "data": [
        {
         "alignmentgroup": "True",
         "bingroup": "x",
         "hovertemplate": "Hemoglobin (Hgb)=%{x}<br>count=%{y}<extra></extra>",
         "legendgroup": "",
         "marker": {
          "color": "#636efa",
          "pattern": {
           "shape": ""
          }
         },
         "name": "",
         "nbinsx": 10,
         "offsetgroup": "",
         "orientation": "v",
         "showlegend": false,
         "type": "histogram",
         "x": [
          9.3,
          10.2,
          10.7,
          11.7,
          11.6,
          15,
          12,
          14.3,
          9.8,
          12.2,
          12,
          10,
          10.5,
          11.4,
          13.3,
          13.5,
          11,
          11.75,
          11,
          13.62,
          9.82,
          12.6,
          9.6,
          9.2,
          8.7,
          8.6,
          9.35,
          15.45,
          10.93,
          12.68,
          14.77,
          14.1,
          13.9,
          14.1,
          15.7,
          13.9,
          13.6,
          15.4,
          13.7,
          13.3,
          13.9,
          15,
          14.7,
          15.4,
          14.9,
          14.1,
          14.1,
          16.1,
          15.1,
          15.3,
          13.9,
          14.4,
          15.1,
          15.3,
          16.9,
          13.2,
          13.5,
          15,
          15.5,
          15.6,
          15,
          13,
          14.9,
          17.4,
          13.8,
          15.9,
          16.2,
          15.5,
          14.1,
          15.3,
          13.7,
          15.4,
          12.3,
          12.9,
          13.5,
          13.7,
          16.8,
          15.4,
          14.7,
          13.5,
          15.6,
          14.8,
          14.8,
          14.9,
          12.4,
          16.9,
          15.6,
          13.7,
          15.4,
          13,
          15.4,
          12.3,
          15.2,
          13.8,
          14.7,
          15.1,
          15.2,
          15.5,
          14.5,
          14,
          15.8,
          14.1,
          16.5,
          7,
          15.5,
          13,
          13.5,
          15.7,
          15.8,
          13.1,
          15.4,
          14,
          15.1,
          15.4,
          13.7,
          15.1,
          15.2,
          16.7,
          15.4,
          12.8,
          15.7,
          15.6,
          12.2,
          8,
          10.7,
          8.3,
          7.8,
          11.8,
          9.2,
          13,
          11.5,
          11.3,
          13.2,
          10.6,
          10.6,
          9.1,
          10.9,
          8.9,
          11.5,
          10.1,
          12.6,
          11.9,
          14.8,
          10.7,
          9.8,
          13.4,
          9.2,
          7.6,
          12.2,
          11.2,
          12.4,
          11.2,
          12.6,
          11.3,
          11.3,
          11.4,
          8.7,
          9.7,
          12.7,
          11.1,
          15.2,
          8.2,
          11.7,
          8.1,
          12.6,
          9.6,
          10,
          10,
          14.3,
          13.6,
          9.7,
          8.1,
          12.9,
          13.4,
          13.8,
          15.5,
          10.5,
          8.8,
          10.3,
          12.5,
          10.6,
          12.2,
          10.8,
          11.3,
          9.9,
          9.2,
          13.8,
          13.8,
          14,
          12,
          17.1,
          10.6,
          15,
          12.7,
          12.3,
          9.1,
          12.2,
          9.3,
          8.5,
          10.3,
          16.4,
          10.5,
          11,
          10.9,
          13.7,
          9.5,
          14.5,
          8.5,
          13.7,
          14.2,
          13.7,
          11.9,
          13.4,
          13.7,
          12.7,
          11.1,
          12.4
         ],
         "xaxis": "x",
         "yaxis": "y"
        }
       ],
       "layout": {
        "barmode": "relative",
        "legend": {
         "tracegroupgap": 0
        },
        "template": {
         "data": {
          "bar": [
           {
            "error_x": {
             "color": "#2a3f5f"
            },
            "error_y": {
             "color": "#2a3f5f"
            },
            "marker": {
             "line": {
              "color": "#E5ECF6",
              "width": 0.5
             },
             "pattern": {
              "fillmode": "overlay",
              "size": 10,
              "solidity": 0.2
             }
            },
            "type": "bar"
           }
          ],
          "barpolar": [
           {
            "marker": {
             "line": {
              "color": "#E5ECF6",
              "width": 0.5
             },
             "pattern": {
              "fillmode": "overlay",
              "size": 10,
              "solidity": 0.2
             }
            },
            "type": "barpolar"
           }
          ],
          "carpet": [
           {
            "aaxis": {
             "endlinecolor": "#2a3f5f",
             "gridcolor": "white",
             "linecolor": "white",
             "minorgridcolor": "white",
             "startlinecolor": "#2a3f5f"
            },
            "baxis": {
             "endlinecolor": "#2a3f5f",
             "gridcolor": "white",
             "linecolor": "white",
             "minorgridcolor": "white",
             "startlinecolor": "#2a3f5f"
            },
            "type": "carpet"
           }
          ],
          "choropleth": [
           {
            "colorbar": {
             "outlinewidth": 0,
             "ticks": ""
            },
            "type": "choropleth"
           }
          ],
          "contour": [
           {
            "colorbar": {
             "outlinewidth": 0,
             "ticks": ""
            },
            "colorscale": [
             [
              0,
              "#0d0887"
             ],
             [
              0.1111111111111111,
              "#46039f"
             ],
             [
              0.2222222222222222,
              "#7201a8"
             ],
             [
              0.3333333333333333,
              "#9c179e"
             ],
             [
              0.4444444444444444,
              "#bd3786"
             ],
             [
              0.5555555555555556,
              "#d8576b"
             ],
             [
              0.6666666666666666,
              "#ed7953"
             ],
             [
              0.7777777777777778,
              "#fb9f3a"
             ],
             [
              0.8888888888888888,
              "#fdca26"
             ],
             [
              1,
              "#f0f921"
             ]
            ],
            "type": "contour"
           }
          ],
          "contourcarpet": [
           {
            "colorbar": {
             "outlinewidth": 0,
             "ticks": ""
            },
            "type": "contourcarpet"
           }
          ],
          "heatmap": [
           {
            "colorbar": {
             "outlinewidth": 0,
             "ticks": ""
            },
            "colorscale": [
             [
              0,
              "#0d0887"
             ],
             [
              0.1111111111111111,
              "#46039f"
             ],
             [
              0.2222222222222222,
              "#7201a8"
             ],
             [
              0.3333333333333333,
              "#9c179e"
             ],
             [
              0.4444444444444444,
              "#bd3786"
             ],
             [
              0.5555555555555556,
              "#d8576b"
             ],
             [
              0.6666666666666666,
              "#ed7953"
             ],
             [
              0.7777777777777778,
              "#fb9f3a"
             ],
             [
              0.8888888888888888,
              "#fdca26"
             ],
             [
              1,
              "#f0f921"
             ]
            ],
            "type": "heatmap"
           }
          ],
          "heatmapgl": [
           {
            "colorbar": {
             "outlinewidth": 0,
             "ticks": ""
            },
            "colorscale": [
             [
              0,
              "#0d0887"
             ],
             [
              0.1111111111111111,
              "#46039f"
             ],
             [
              0.2222222222222222,
              "#7201a8"
             ],
             [
              0.3333333333333333,
              "#9c179e"
             ],
             [
              0.4444444444444444,
              "#bd3786"
             ],
             [
              0.5555555555555556,
              "#d8576b"
             ],
             [
              0.6666666666666666,
              "#ed7953"
             ],
             [
              0.7777777777777778,
              "#fb9f3a"
             ],
             [
              0.8888888888888888,
              "#fdca26"
             ],
             [
              1,
              "#f0f921"
             ]
            ],
            "type": "heatmapgl"
           }
          ],
          "histogram": [
           {
            "marker": {
             "pattern": {
              "fillmode": "overlay",
              "size": 10,
              "solidity": 0.2
             }
            },
            "type": "histogram"
           }
          ],
          "histogram2d": [
           {
            "colorbar": {
             "outlinewidth": 0,
             "ticks": ""
            },
            "colorscale": [
             [
              0,
              "#0d0887"
             ],
             [
              0.1111111111111111,
              "#46039f"
             ],
             [
              0.2222222222222222,
              "#7201a8"
             ],
             [
              0.3333333333333333,
              "#9c179e"
             ],
             [
              0.4444444444444444,
              "#bd3786"
             ],
             [
              0.5555555555555556,
              "#d8576b"
             ],
             [
              0.6666666666666666,
              "#ed7953"
             ],
             [
              0.7777777777777778,
              "#fb9f3a"
             ],
             [
              0.8888888888888888,
              "#fdca26"
             ],
             [
              1,
              "#f0f921"
             ]
            ],
            "type": "histogram2d"
           }
          ],
          "histogram2dcontour": [
           {
            "colorbar": {
             "outlinewidth": 0,
             "ticks": ""
            },
            "colorscale": [
             [
              0,
              "#0d0887"
             ],
             [
              0.1111111111111111,
              "#46039f"
             ],
             [
              0.2222222222222222,
              "#7201a8"
             ],
             [
              0.3333333333333333,
              "#9c179e"
             ],
             [
              0.4444444444444444,
              "#bd3786"
             ],
             [
              0.5555555555555556,
              "#d8576b"
             ],
             [
              0.6666666666666666,
              "#ed7953"
             ],
             [
              0.7777777777777778,
              "#fb9f3a"
             ],
             [
              0.8888888888888888,
              "#fdca26"
             ],
             [
              1,
              "#f0f921"
             ]
            ],
            "type": "histogram2dcontour"
           }
          ],
          "mesh3d": [
           {
            "colorbar": {
             "outlinewidth": 0,
             "ticks": ""
            },
            "type": "mesh3d"
           }
          ],
          "parcoords": [
           {
            "line": {
             "colorbar": {
              "outlinewidth": 0,
              "ticks": ""
             }
            },
            "type": "parcoords"
           }
          ],
          "pie": [
           {
            "automargin": true,
            "type": "pie"
           }
          ],
          "scatter": [
           {
            "fillpattern": {
             "fillmode": "overlay",
             "size": 10,
             "solidity": 0.2
            },
            "type": "scatter"
           }
          ],
          "scatter3d": [
           {
            "line": {
             "colorbar": {
              "outlinewidth": 0,
              "ticks": ""
             }
            },
            "marker": {
             "colorbar": {
              "outlinewidth": 0,
              "ticks": ""
             }
            },
            "type": "scatter3d"
           }
          ],
          "scattercarpet": [
           {
            "marker": {
             "colorbar": {
              "outlinewidth": 0,
              "ticks": ""
             }
            },
            "type": "scattercarpet"
           }
          ],
          "scattergeo": [
           {
            "marker": {
             "colorbar": {
              "outlinewidth": 0,
              "ticks": ""
             }
            },
            "type": "scattergeo"
           }
          ],
          "scattergl": [
           {
            "marker": {
             "colorbar": {
              "outlinewidth": 0,
              "ticks": ""
             }
            },
            "type": "scattergl"
           }
          ],
          "scattermapbox": [
           {
            "marker": {
             "colorbar": {
              "outlinewidth": 0,
              "ticks": ""
             }
            },
            "type": "scattermapbox"
           }
          ],
          "scatterpolar": [
           {
            "marker": {
             "colorbar": {
              "outlinewidth": 0,
              "ticks": ""
             }
            },
            "type": "scatterpolar"
           }
          ],
          "scatterpolargl": [
           {
            "marker": {
             "colorbar": {
              "outlinewidth": 0,
              "ticks": ""
             }
            },
            "type": "scatterpolargl"
           }
          ],
          "scatterternary": [
           {
            "marker": {
             "colorbar": {
              "outlinewidth": 0,
              "ticks": ""
             }
            },
            "type": "scatterternary"
           }
          ],
          "surface": [
           {
            "colorbar": {
             "outlinewidth": 0,
             "ticks": ""
            },
            "colorscale": [
             [
              0,
              "#0d0887"
             ],
             [
              0.1111111111111111,
              "#46039f"
             ],
             [
              0.2222222222222222,
              "#7201a8"
             ],
             [
              0.3333333333333333,
              "#9c179e"
             ],
             [
              0.4444444444444444,
              "#bd3786"
             ],
             [
              0.5555555555555556,
              "#d8576b"
             ],
             [
              0.6666666666666666,
              "#ed7953"
             ],
             [
              0.7777777777777778,
              "#fb9f3a"
             ],
             [
              0.8888888888888888,
              "#fdca26"
             ],
             [
              1,
              "#f0f921"
             ]
            ],
            "type": "surface"
           }
          ],
          "table": [
           {
            "cells": {
             "fill": {
              "color": "#EBF0F8"
             },
             "line": {
              "color": "white"
             }
            },
            "header": {
             "fill": {
              "color": "#C8D4E3"
             },
             "line": {
              "color": "white"
             }
            },
            "type": "table"
           }
          ]
         },
         "layout": {
          "annotationdefaults": {
           "arrowcolor": "#2a3f5f",
           "arrowhead": 0,
           "arrowwidth": 1
          },
          "autotypenumbers": "strict",
          "coloraxis": {
           "colorbar": {
            "outlinewidth": 0,
            "ticks": ""
           }
          },
          "colorscale": {
           "diverging": [
            [
             0,
             "#8e0152"
            ],
            [
             0.1,
             "#c51b7d"
            ],
            [
             0.2,
             "#de77ae"
            ],
            [
             0.3,
             "#f1b6da"
            ],
            [
             0.4,
             "#fde0ef"
            ],
            [
             0.5,
             "#f7f7f7"
            ],
            [
             0.6,
             "#e6f5d0"
            ],
            [
             0.7,
             "#b8e186"
            ],
            [
             0.8,
             "#7fbc41"
            ],
            [
             0.9,
             "#4d9221"
            ],
            [
             1,
             "#276419"
            ]
           ],
           "sequential": [
            [
             0,
             "#0d0887"
            ],
            [
             0.1111111111111111,
             "#46039f"
            ],
            [
             0.2222222222222222,
             "#7201a8"
            ],
            [
             0.3333333333333333,
             "#9c179e"
            ],
            [
             0.4444444444444444,
             "#bd3786"
            ],
            [
             0.5555555555555556,
             "#d8576b"
            ],
            [
             0.6666666666666666,
             "#ed7953"
            ],
            [
             0.7777777777777778,
             "#fb9f3a"
            ],
            [
             0.8888888888888888,
             "#fdca26"
            ],
            [
             1,
             "#f0f921"
            ]
           ],
           "sequentialminus": [
            [
             0,
             "#0d0887"
            ],
            [
             0.1111111111111111,
             "#46039f"
            ],
            [
             0.2222222222222222,
             "#7201a8"
            ],
            [
             0.3333333333333333,
             "#9c179e"
            ],
            [
             0.4444444444444444,
             "#bd3786"
            ],
            [
             0.5555555555555556,
             "#d8576b"
            ],
            [
             0.6666666666666666,
             "#ed7953"
            ],
            [
             0.7777777777777778,
             "#fb9f3a"
            ],
            [
             0.8888888888888888,
             "#fdca26"
            ],
            [
             1,
             "#f0f921"
            ]
           ]
          },
          "colorway": [
           "#636efa",
           "#EF553B",
           "#00cc96",
           "#ab63fa",
           "#FFA15A",
           "#19d3f3",
           "#FF6692",
           "#B6E880",
           "#FF97FF",
           "#FECB52"
          ],
          "font": {
           "color": "#2a3f5f"
          },
          "geo": {
           "bgcolor": "white",
           "lakecolor": "white",
           "landcolor": "#E5ECF6",
           "showlakes": true,
           "showland": true,
           "subunitcolor": "white"
          },
          "hoverlabel": {
           "align": "left"
          },
          "hovermode": "closest",
          "mapbox": {
           "style": "light"
          },
          "paper_bgcolor": "white",
          "plot_bgcolor": "#E5ECF6",
          "polar": {
           "angularaxis": {
            "gridcolor": "white",
            "linecolor": "white",
            "ticks": ""
           },
           "bgcolor": "#E5ECF6",
           "radialaxis": {
            "gridcolor": "white",
            "linecolor": "white",
            "ticks": ""
           }
          },
          "scene": {
           "xaxis": {
            "backgroundcolor": "#E5ECF6",
            "gridcolor": "white",
            "gridwidth": 2,
            "linecolor": "white",
            "showbackground": true,
            "ticks": "",
            "zerolinecolor": "white"
           },
           "yaxis": {
            "backgroundcolor": "#E5ECF6",
            "gridcolor": "white",
            "gridwidth": 2,
            "linecolor": "white",
            "showbackground": true,
            "ticks": "",
            "zerolinecolor": "white"
           },
           "zaxis": {
            "backgroundcolor": "#E5ECF6",
            "gridcolor": "white",
            "gridwidth": 2,
            "linecolor": "white",
            "showbackground": true,
            "ticks": "",
            "zerolinecolor": "white"
           }
          },
          "shapedefaults": {
           "line": {
            "color": "#2a3f5f"
           }
          },
          "ternary": {
           "aaxis": {
            "gridcolor": "white",
            "linecolor": "white",
            "ticks": ""
           },
           "baxis": {
            "gridcolor": "white",
            "linecolor": "white",
            "ticks": ""
           },
           "bgcolor": "#E5ECF6",
           "caxis": {
            "gridcolor": "white",
            "linecolor": "white",
            "ticks": ""
           }
          },
          "title": {
           "x": 0.05
          },
          "xaxis": {
           "automargin": true,
           "gridcolor": "white",
           "linecolor": "white",
           "ticks": "",
           "title": {
            "standoff": 15
           },
           "zerolinecolor": "white",
           "zerolinewidth": 2
          },
          "yaxis": {
           "automargin": true,
           "gridcolor": "white",
           "linecolor": "white",
           "ticks": "",
           "title": {
            "standoff": 15
           },
           "zerolinecolor": "white",
           "zerolinewidth": 2
          }
         }
        },
        "title": {
         "text": "Histogram: Distribution of Hemoglobin (Hgb)"
        },
        "xaxis": {
         "anchor": "y",
         "domain": [
          0,
          1
         ],
         "title": {
          "text": "Hemoglobin (Hgb)"
         }
        },
        "yaxis": {
         "anchor": "x",
         "domain": [
          0,
          1
         ],
         "title": {
          "text": "count"
         }
        }
       }
      }
     },
     "metadata": {},
     "output_type": "display_data"
    }
   ],
   "source": [
    "histogram_fig = px.histogram(\n",
    "    df, \n",
    "    x='Hgb', \n",
    "    nbins=10, \n",
    "    title='Histogram: Distribution of Hemoglobin (Hgb)',\n",
    "    labels={'Hgb': 'Hemoglobin (Hgb)'}\n",
    ")\n",
    "histogram_fig.show()"
   ]
  },
  {
   "cell_type": "code",
   "execution_count": 13,
   "metadata": {},
   "outputs": [
    {
     "data": {
      "application/vnd.plotly.v1+json": {
       "config": {
        "plotlyServerURL": "https://plot.ly"
       },
       "data": [
        {
         "alignmentgroup": "True",
         "hovertemplate": "gender=%{x}<br>Hemoglobin (Hgb)=%{y}<extra></extra>",
         "legendgroup": "",
         "marker": {
          "color": "#636efa"
         },
         "name": "",
         "notched": false,
         "offsetgroup": "",
         "orientation": "v",
         "showlegend": false,
         "type": "box",
         "x": [
          0,
          0,
          0,
          0,
          0,
          0,
          0,
          1,
          1,
          1,
          0,
          0,
          0,
          0,
          0,
          1,
          1,
          0,
          0,
          1,
          0,
          1,
          1,
          1,
          1,
          1,
          1,
          1,
          0,
          0,
          0,
          0,
          0,
          1,
          1,
          1,
          0,
          1,
          1,
          0,
          0,
          1,
          1,
          1,
          1,
          1,
          1,
          1,
          1,
          0,
          1,
          0,
          1,
          1,
          1,
          0,
          0,
          1,
          1,
          1,
          1,
          0,
          1,
          1,
          1,
          1,
          1,
          1,
          1,
          1,
          1,
          1,
          0,
          1,
          0,
          0,
          1,
          1,
          1,
          0,
          1,
          1,
          1,
          1,
          0,
          1,
          1,
          0,
          1,
          0,
          1,
          0,
          1,
          1,
          1,
          1,
          1,
          1,
          0,
          1,
          1,
          1,
          1,
          0,
          1,
          0,
          1,
          1,
          1,
          1,
          1,
          1,
          1,
          1,
          1,
          1,
          1,
          1,
          1,
          0,
          1,
          1,
          1,
          0,
          0,
          0,
          0,
          0,
          0,
          1,
          1,
          0,
          1,
          1,
          0,
          0,
          0,
          0,
          1,
          1,
          1,
          1,
          1,
          1,
          0,
          0,
          0,
          0,
          0,
          1,
          1,
          1,
          1,
          1,
          1,
          0,
          0,
          0,
          1,
          1,
          1,
          0,
          1,
          0,
          1,
          1,
          0,
          0,
          1,
          1,
          0,
          0,
          1,
          1,
          1,
          1,
          1,
          0,
          0,
          1,
          0,
          1,
          0,
          1,
          0,
          0,
          1,
          1,
          1,
          1,
          1,
          0,
          1,
          1,
          0,
          0,
          0,
          0,
          0,
          0,
          1,
          0,
          0,
          0,
          1,
          0,
          1,
          0,
          1,
          1,
          1,
          1,
          1,
          0,
          1,
          0,
          0
         ],
         "x0": " ",
         "xaxis": "x",
         "y": [
          9.3,
          10.2,
          10.7,
          11.7,
          11.6,
          15,
          12,
          14.3,
          9.8,
          12.2,
          12,
          10,
          10.5,
          11.4,
          13.3,
          13.5,
          11,
          11.75,
          11,
          13.62,
          9.82,
          12.6,
          9.6,
          9.2,
          8.7,
          8.6,
          9.35,
          15.45,
          10.93,
          12.68,
          14.77,
          14.1,
          13.9,
          14.1,
          15.7,
          13.9,
          13.6,
          15.4,
          13.7,
          13.3,
          13.9,
          15,
          14.7,
          15.4,
          14.9,
          14.1,
          14.1,
          16.1,
          15.1,
          15.3,
          13.9,
          14.4,
          15.1,
          15.3,
          16.9,
          13.2,
          13.5,
          15,
          15.5,
          15.6,
          15,
          13,
          14.9,
          17.4,
          13.8,
          15.9,
          16.2,
          15.5,
          14.1,
          15.3,
          13.7,
          15.4,
          12.3,
          12.9,
          13.5,
          13.7,
          16.8,
          15.4,
          14.7,
          13.5,
          15.6,
          14.8,
          14.8,
          14.9,
          12.4,
          16.9,
          15.6,
          13.7,
          15.4,
          13,
          15.4,
          12.3,
          15.2,
          13.8,
          14.7,
          15.1,
          15.2,
          15.5,
          14.5,
          14,
          15.8,
          14.1,
          16.5,
          7,
          15.5,
          13,
          13.5,
          15.7,
          15.8,
          13.1,
          15.4,
          14,
          15.1,
          15.4,
          13.7,
          15.1,
          15.2,
          16.7,
          15.4,
          12.8,
          15.7,
          15.6,
          12.2,
          8,
          10.7,
          8.3,
          7.8,
          11.8,
          9.2,
          13,
          11.5,
          11.3,
          13.2,
          10.6,
          10.6,
          9.1,
          10.9,
          8.9,
          11.5,
          10.1,
          12.6,
          11.9,
          14.8,
          10.7,
          9.8,
          13.4,
          9.2,
          7.6,
          12.2,
          11.2,
          12.4,
          11.2,
          12.6,
          11.3,
          11.3,
          11.4,
          8.7,
          9.7,
          12.7,
          11.1,
          15.2,
          8.2,
          11.7,
          8.1,
          12.6,
          9.6,
          10,
          10,
          14.3,
          13.6,
          9.7,
          8.1,
          12.9,
          13.4,
          13.8,
          15.5,
          10.5,
          8.8,
          10.3,
          12.5,
          10.6,
          12.2,
          10.8,
          11.3,
          9.9,
          9.2,
          13.8,
          13.8,
          14,
          12,
          17.1,
          10.6,
          15,
          12.7,
          12.3,
          9.1,
          12.2,
          9.3,
          8.5,
          10.3,
          16.4,
          10.5,
          11,
          10.9,
          13.7,
          9.5,
          14.5,
          8.5,
          13.7,
          14.2,
          13.7,
          11.9,
          13.4,
          13.7,
          12.7,
          11.1,
          12.4
         ],
         "y0": " ",
         "yaxis": "y"
        }
       ],
       "layout": {
        "boxmode": "group",
        "legend": {
         "tracegroupgap": 0
        },
        "template": {
         "data": {
          "bar": [
           {
            "error_x": {
             "color": "#2a3f5f"
            },
            "error_y": {
             "color": "#2a3f5f"
            },
            "marker": {
             "line": {
              "color": "#E5ECF6",
              "width": 0.5
             },
             "pattern": {
              "fillmode": "overlay",
              "size": 10,
              "solidity": 0.2
             }
            },
            "type": "bar"
           }
          ],
          "barpolar": [
           {
            "marker": {
             "line": {
              "color": "#E5ECF6",
              "width": 0.5
             },
             "pattern": {
              "fillmode": "overlay",
              "size": 10,
              "solidity": 0.2
             }
            },
            "type": "barpolar"
           }
          ],
          "carpet": [
           {
            "aaxis": {
             "endlinecolor": "#2a3f5f",
             "gridcolor": "white",
             "linecolor": "white",
             "minorgridcolor": "white",
             "startlinecolor": "#2a3f5f"
            },
            "baxis": {
             "endlinecolor": "#2a3f5f",
             "gridcolor": "white",
             "linecolor": "white",
             "minorgridcolor": "white",
             "startlinecolor": "#2a3f5f"
            },
            "type": "carpet"
           }
          ],
          "choropleth": [
           {
            "colorbar": {
             "outlinewidth": 0,
             "ticks": ""
            },
            "type": "choropleth"
           }
          ],
          "contour": [
           {
            "colorbar": {
             "outlinewidth": 0,
             "ticks": ""
            },
            "colorscale": [
             [
              0,
              "#0d0887"
             ],
             [
              0.1111111111111111,
              "#46039f"
             ],
             [
              0.2222222222222222,
              "#7201a8"
             ],
             [
              0.3333333333333333,
              "#9c179e"
             ],
             [
              0.4444444444444444,
              "#bd3786"
             ],
             [
              0.5555555555555556,
              "#d8576b"
             ],
             [
              0.6666666666666666,
              "#ed7953"
             ],
             [
              0.7777777777777778,
              "#fb9f3a"
             ],
             [
              0.8888888888888888,
              "#fdca26"
             ],
             [
              1,
              "#f0f921"
             ]
            ],
            "type": "contour"
           }
          ],
          "contourcarpet": [
           {
            "colorbar": {
             "outlinewidth": 0,
             "ticks": ""
            },
            "type": "contourcarpet"
           }
          ],
          "heatmap": [
           {
            "colorbar": {
             "outlinewidth": 0,
             "ticks": ""
            },
            "colorscale": [
             [
              0,
              "#0d0887"
             ],
             [
              0.1111111111111111,
              "#46039f"
             ],
             [
              0.2222222222222222,
              "#7201a8"
             ],
             [
              0.3333333333333333,
              "#9c179e"
             ],
             [
              0.4444444444444444,
              "#bd3786"
             ],
             [
              0.5555555555555556,
              "#d8576b"
             ],
             [
              0.6666666666666666,
              "#ed7953"
             ],
             [
              0.7777777777777778,
              "#fb9f3a"
             ],
             [
              0.8888888888888888,
              "#fdca26"
             ],
             [
              1,
              "#f0f921"
             ]
            ],
            "type": "heatmap"
           }
          ],
          "heatmapgl": [
           {
            "colorbar": {
             "outlinewidth": 0,
             "ticks": ""
            },
            "colorscale": [
             [
              0,
              "#0d0887"
             ],
             [
              0.1111111111111111,
              "#46039f"
             ],
             [
              0.2222222222222222,
              "#7201a8"
             ],
             [
              0.3333333333333333,
              "#9c179e"
             ],
             [
              0.4444444444444444,
              "#bd3786"
             ],
             [
              0.5555555555555556,
              "#d8576b"
             ],
             [
              0.6666666666666666,
              "#ed7953"
             ],
             [
              0.7777777777777778,
              "#fb9f3a"
             ],
             [
              0.8888888888888888,
              "#fdca26"
             ],
             [
              1,
              "#f0f921"
             ]
            ],
            "type": "heatmapgl"
           }
          ],
          "histogram": [
           {
            "marker": {
             "pattern": {
              "fillmode": "overlay",
              "size": 10,
              "solidity": 0.2
             }
            },
            "type": "histogram"
           }
          ],
          "histogram2d": [
           {
            "colorbar": {
             "outlinewidth": 0,
             "ticks": ""
            },
            "colorscale": [
             [
              0,
              "#0d0887"
             ],
             [
              0.1111111111111111,
              "#46039f"
             ],
             [
              0.2222222222222222,
              "#7201a8"
             ],
             [
              0.3333333333333333,
              "#9c179e"
             ],
             [
              0.4444444444444444,
              "#bd3786"
             ],
             [
              0.5555555555555556,
              "#d8576b"
             ],
             [
              0.6666666666666666,
              "#ed7953"
             ],
             [
              0.7777777777777778,
              "#fb9f3a"
             ],
             [
              0.8888888888888888,
              "#fdca26"
             ],
             [
              1,
              "#f0f921"
             ]
            ],
            "type": "histogram2d"
           }
          ],
          "histogram2dcontour": [
           {
            "colorbar": {
             "outlinewidth": 0,
             "ticks": ""
            },
            "colorscale": [
             [
              0,
              "#0d0887"
             ],
             [
              0.1111111111111111,
              "#46039f"
             ],
             [
              0.2222222222222222,
              "#7201a8"
             ],
             [
              0.3333333333333333,
              "#9c179e"
             ],
             [
              0.4444444444444444,
              "#bd3786"
             ],
             [
              0.5555555555555556,
              "#d8576b"
             ],
             [
              0.6666666666666666,
              "#ed7953"
             ],
             [
              0.7777777777777778,
              "#fb9f3a"
             ],
             [
              0.8888888888888888,
              "#fdca26"
             ],
             [
              1,
              "#f0f921"
             ]
            ],
            "type": "histogram2dcontour"
           }
          ],
          "mesh3d": [
           {
            "colorbar": {
             "outlinewidth": 0,
             "ticks": ""
            },
            "type": "mesh3d"
           }
          ],
          "parcoords": [
           {
            "line": {
             "colorbar": {
              "outlinewidth": 0,
              "ticks": ""
             }
            },
            "type": "parcoords"
           }
          ],
          "pie": [
           {
            "automargin": true,
            "type": "pie"
           }
          ],
          "scatter": [
           {
            "fillpattern": {
             "fillmode": "overlay",
             "size": 10,
             "solidity": 0.2
            },
            "type": "scatter"
           }
          ],
          "scatter3d": [
           {
            "line": {
             "colorbar": {
              "outlinewidth": 0,
              "ticks": ""
             }
            },
            "marker": {
             "colorbar": {
              "outlinewidth": 0,
              "ticks": ""
             }
            },
            "type": "scatter3d"
           }
          ],
          "scattercarpet": [
           {
            "marker": {
             "colorbar": {
              "outlinewidth": 0,
              "ticks": ""
             }
            },
            "type": "scattercarpet"
           }
          ],
          "scattergeo": [
           {
            "marker": {
             "colorbar": {
              "outlinewidth": 0,
              "ticks": ""
             }
            },
            "type": "scattergeo"
           }
          ],
          "scattergl": [
           {
            "marker": {
             "colorbar": {
              "outlinewidth": 0,
              "ticks": ""
             }
            },
            "type": "scattergl"
           }
          ],
          "scattermapbox": [
           {
            "marker": {
             "colorbar": {
              "outlinewidth": 0,
              "ticks": ""
             }
            },
            "type": "scattermapbox"
           }
          ],
          "scatterpolar": [
           {
            "marker": {
             "colorbar": {
              "outlinewidth": 0,
              "ticks": ""
             }
            },
            "type": "scatterpolar"
           }
          ],
          "scatterpolargl": [
           {
            "marker": {
             "colorbar": {
              "outlinewidth": 0,
              "ticks": ""
             }
            },
            "type": "scatterpolargl"
           }
          ],
          "scatterternary": [
           {
            "marker": {
             "colorbar": {
              "outlinewidth": 0,
              "ticks": ""
             }
            },
            "type": "scatterternary"
           }
          ],
          "surface": [
           {
            "colorbar": {
             "outlinewidth": 0,
             "ticks": ""
            },
            "colorscale": [
             [
              0,
              "#0d0887"
             ],
             [
              0.1111111111111111,
              "#46039f"
             ],
             [
              0.2222222222222222,
              "#7201a8"
             ],
             [
              0.3333333333333333,
              "#9c179e"
             ],
             [
              0.4444444444444444,
              "#bd3786"
             ],
             [
              0.5555555555555556,
              "#d8576b"
             ],
             [
              0.6666666666666666,
              "#ed7953"
             ],
             [
              0.7777777777777778,
              "#fb9f3a"
             ],
             [
              0.8888888888888888,
              "#fdca26"
             ],
             [
              1,
              "#f0f921"
             ]
            ],
            "type": "surface"
           }
          ],
          "table": [
           {
            "cells": {
             "fill": {
              "color": "#EBF0F8"
             },
             "line": {
              "color": "white"
             }
            },
            "header": {
             "fill": {
              "color": "#C8D4E3"
             },
             "line": {
              "color": "white"
             }
            },
            "type": "table"
           }
          ]
         },
         "layout": {
          "annotationdefaults": {
           "arrowcolor": "#2a3f5f",
           "arrowhead": 0,
           "arrowwidth": 1
          },
          "autotypenumbers": "strict",
          "coloraxis": {
           "colorbar": {
            "outlinewidth": 0,
            "ticks": ""
           }
          },
          "colorscale": {
           "diverging": [
            [
             0,
             "#8e0152"
            ],
            [
             0.1,
             "#c51b7d"
            ],
            [
             0.2,
             "#de77ae"
            ],
            [
             0.3,
             "#f1b6da"
            ],
            [
             0.4,
             "#fde0ef"
            ],
            [
             0.5,
             "#f7f7f7"
            ],
            [
             0.6,
             "#e6f5d0"
            ],
            [
             0.7,
             "#b8e186"
            ],
            [
             0.8,
             "#7fbc41"
            ],
            [
             0.9,
             "#4d9221"
            ],
            [
             1,
             "#276419"
            ]
           ],
           "sequential": [
            [
             0,
             "#0d0887"
            ],
            [
             0.1111111111111111,
             "#46039f"
            ],
            [
             0.2222222222222222,
             "#7201a8"
            ],
            [
             0.3333333333333333,
             "#9c179e"
            ],
            [
             0.4444444444444444,
             "#bd3786"
            ],
            [
             0.5555555555555556,
             "#d8576b"
            ],
            [
             0.6666666666666666,
             "#ed7953"
            ],
            [
             0.7777777777777778,
             "#fb9f3a"
            ],
            [
             0.8888888888888888,
             "#fdca26"
            ],
            [
             1,
             "#f0f921"
            ]
           ],
           "sequentialminus": [
            [
             0,
             "#0d0887"
            ],
            [
             0.1111111111111111,
             "#46039f"
            ],
            [
             0.2222222222222222,
             "#7201a8"
            ],
            [
             0.3333333333333333,
             "#9c179e"
            ],
            [
             0.4444444444444444,
             "#bd3786"
            ],
            [
             0.5555555555555556,
             "#d8576b"
            ],
            [
             0.6666666666666666,
             "#ed7953"
            ],
            [
             0.7777777777777778,
             "#fb9f3a"
            ],
            [
             0.8888888888888888,
             "#fdca26"
            ],
            [
             1,
             "#f0f921"
            ]
           ]
          },
          "colorway": [
           "#636efa",
           "#EF553B",
           "#00cc96",
           "#ab63fa",
           "#FFA15A",
           "#19d3f3",
           "#FF6692",
           "#B6E880",
           "#FF97FF",
           "#FECB52"
          ],
          "font": {
           "color": "#2a3f5f"
          },
          "geo": {
           "bgcolor": "white",
           "lakecolor": "white",
           "landcolor": "#E5ECF6",
           "showlakes": true,
           "showland": true,
           "subunitcolor": "white"
          },
          "hoverlabel": {
           "align": "left"
          },
          "hovermode": "closest",
          "mapbox": {
           "style": "light"
          },
          "paper_bgcolor": "white",
          "plot_bgcolor": "#E5ECF6",
          "polar": {
           "angularaxis": {
            "gridcolor": "white",
            "linecolor": "white",
            "ticks": ""
           },
           "bgcolor": "#E5ECF6",
           "radialaxis": {
            "gridcolor": "white",
            "linecolor": "white",
            "ticks": ""
           }
          },
          "scene": {
           "xaxis": {
            "backgroundcolor": "#E5ECF6",
            "gridcolor": "white",
            "gridwidth": 2,
            "linecolor": "white",
            "showbackground": true,
            "ticks": "",
            "zerolinecolor": "white"
           },
           "yaxis": {
            "backgroundcolor": "#E5ECF6",
            "gridcolor": "white",
            "gridwidth": 2,
            "linecolor": "white",
            "showbackground": true,
            "ticks": "",
            "zerolinecolor": "white"
           },
           "zaxis": {
            "backgroundcolor": "#E5ECF6",
            "gridcolor": "white",
            "gridwidth": 2,
            "linecolor": "white",
            "showbackground": true,
            "ticks": "",
            "zerolinecolor": "white"
           }
          },
          "shapedefaults": {
           "line": {
            "color": "#2a3f5f"
           }
          },
          "ternary": {
           "aaxis": {
            "gridcolor": "white",
            "linecolor": "white",
            "ticks": ""
           },
           "baxis": {
            "gridcolor": "white",
            "linecolor": "white",
            "ticks": ""
           },
           "bgcolor": "#E5ECF6",
           "caxis": {
            "gridcolor": "white",
            "linecolor": "white",
            "ticks": ""
           }
          },
          "title": {
           "x": 0.05
          },
          "xaxis": {
           "automargin": true,
           "gridcolor": "white",
           "linecolor": "white",
           "ticks": "",
           "title": {
            "standoff": 15
           },
           "zerolinecolor": "white",
           "zerolinewidth": 2
          },
          "yaxis": {
           "automargin": true,
           "gridcolor": "white",
           "linecolor": "white",
           "ticks": "",
           "title": {
            "standoff": 15
           },
           "zerolinecolor": "white",
           "zerolinewidth": 2
          }
         }
        },
        "title": {
         "text": "Box Plot: Hemoglobin (Hgb) by Gender"
        },
        "xaxis": {
         "anchor": "y",
         "domain": [
          0,
          1
         ],
         "title": {
          "text": "gender"
         }
        },
        "yaxis": {
         "anchor": "x",
         "domain": [
          0,
          1
         ],
         "title": {
          "text": "Hemoglobin (Hgb)"
         }
        }
       }
      }
     },
     "metadata": {},
     "output_type": "display_data"
    }
   ],
   "source": [
    "box_fig = px.box(\n",
    "    df, \n",
    "    x='gender', \n",
    "    y='Hgb', \n",
    "    title='Box Plot: Hemoglobin (Hgb) by Gender',\n",
    "    labels={'Hgb': 'Hemoglobin (Hgb)'}\n",
    ")\n",
    "box_fig.show()"
   ]
  },
  {
   "cell_type": "code",
   "execution_count": 14,
   "metadata": {},
   "outputs": [
    {
     "data": {
      "text/plain": [
       "Number    141\n",
       "Hgb       141\n",
       "Age       141\n",
       "gender    141\n",
       "dtype: int64"
      ]
     },
     "execution_count": 14,
     "metadata": {},
     "output_type": "execute_result"
    }
   ],
   "source": [
    "df[df['Hgb'] >= 12].count() "
   ]
  },
  {
   "cell_type": "code",
   "execution_count": 15,
   "metadata": {},
   "outputs": [
    {
     "data": {
      "text/plain": [
       "Number    76\n",
       "Hgb       76\n",
       "Age       76\n",
       "gender    76\n",
       "dtype: int64"
      ]
     },
     "execution_count": 15,
     "metadata": {},
     "output_type": "execute_result"
    }
   ],
   "source": [
    "df[df['Hgb'] < 12].count() "
   ]
  },
  {
   "cell_type": "code",
   "execution_count": 16,
   "metadata": {},
   "outputs": [
    {
     "data": {
      "text/html": [
       "<div>\n",
       "<style scoped>\n",
       "    .dataframe tbody tr th:only-of-type {\n",
       "        vertical-align: middle;\n",
       "    }\n",
       "\n",
       "    .dataframe tbody tr th {\n",
       "        vertical-align: top;\n",
       "    }\n",
       "\n",
       "    .dataframe thead th {\n",
       "        text-align: right;\n",
       "    }\n",
       "</style>\n",
       "<table border=\"1\" class=\"dataframe\">\n",
       "  <thead>\n",
       "    <tr style=\"text-align: right;\">\n",
       "      <th></th>\n",
       "      <th>Number</th>\n",
       "      <th>Hgb</th>\n",
       "      <th>Age</th>\n",
       "      <th>gender</th>\n",
       "    </tr>\n",
       "  </thead>\n",
       "  <tbody>\n",
       "    <tr>\n",
       "      <th>0</th>\n",
       "      <td>1</td>\n",
       "      <td>9.3</td>\n",
       "      <td>82</td>\n",
       "      <td>0</td>\n",
       "    </tr>\n",
       "    <tr>\n",
       "      <th>1</th>\n",
       "      <td>2</td>\n",
       "      <td>10.2</td>\n",
       "      <td>77</td>\n",
       "      <td>0</td>\n",
       "    </tr>\n",
       "    <tr>\n",
       "      <th>2</th>\n",
       "      <td>3</td>\n",
       "      <td>10.7</td>\n",
       "      <td>52</td>\n",
       "      <td>0</td>\n",
       "    </tr>\n",
       "    <tr>\n",
       "      <th>3</th>\n",
       "      <td>4</td>\n",
       "      <td>11.7</td>\n",
       "      <td>73</td>\n",
       "      <td>0</td>\n",
       "    </tr>\n",
       "    <tr>\n",
       "      <th>4</th>\n",
       "      <td>5</td>\n",
       "      <td>11.6</td>\n",
       "      <td>74</td>\n",
       "      <td>0</td>\n",
       "    </tr>\n",
       "    <tr>\n",
       "      <th>...</th>\n",
       "      <td>...</td>\n",
       "      <td>...</td>\n",
       "      <td>...</td>\n",
       "      <td>...</td>\n",
       "    </tr>\n",
       "    <tr>\n",
       "      <th>213</th>\n",
       "      <td>214</td>\n",
       "      <td>13.4</td>\n",
       "      <td>21</td>\n",
       "      <td>1</td>\n",
       "    </tr>\n",
       "    <tr>\n",
       "      <th>214</th>\n",
       "      <td>215</td>\n",
       "      <td>13.7</td>\n",
       "      <td>55</td>\n",
       "      <td>0</td>\n",
       "    </tr>\n",
       "    <tr>\n",
       "      <th>215</th>\n",
       "      <td>216</td>\n",
       "      <td>12.7</td>\n",
       "      <td>29</td>\n",
       "      <td>1</td>\n",
       "    </tr>\n",
       "    <tr>\n",
       "      <th>216</th>\n",
       "      <td>217</td>\n",
       "      <td>11.1</td>\n",
       "      <td>53</td>\n",
       "      <td>0</td>\n",
       "    </tr>\n",
       "    <tr>\n",
       "      <th>217</th>\n",
       "      <td>218</td>\n",
       "      <td>12.4</td>\n",
       "      <td>32</td>\n",
       "      <td>0</td>\n",
       "    </tr>\n",
       "  </tbody>\n",
       "</table>\n",
       "<p>217 rows × 4 columns</p>\n",
       "</div>"
      ],
      "text/plain": [
       "     Number   Hgb  Age  gender\n",
       "0         1   9.3   82       0\n",
       "1         2  10.2   77       0\n",
       "2         3  10.7   52       0\n",
       "3         4  11.7   73       0\n",
       "4         5  11.6   74       0\n",
       "..      ...   ...  ...     ...\n",
       "213     214  13.4   21       1\n",
       "214     215  13.7   55       0\n",
       "215     216  12.7   29       1\n",
       "216     217  11.1   53       0\n",
       "217     218  12.4   32       0\n",
       "\n",
       "[217 rows x 4 columns]"
      ]
     },
     "execution_count": 16,
     "metadata": {},
     "output_type": "execute_result"
    }
   ],
   "source": [
    "df"
   ]
  },
  {
   "cell_type": "code",
   "execution_count": 17,
   "metadata": {},
   "outputs": [
    {
     "name": "stdout",
     "output_type": "stream",
     "text": [
      "Images shape: (217, 224, 224, 3)\n",
      "Metadata shape: (217, 2)\n",
      "Labels shape: (217,)\n"
     ]
    }
   ],
   "source": [
    "import os\n",
    "import cv2\n",
    "import numpy as np\n",
    "import pandas as pd\n",
    "from tensorflow.keras.applications.densenet import preprocess_input\n",
    "\n",
    "# Function to preprocess an image for DenseNet\n",
    "def preprocess_image(img_path, target_size=(224, 224)):\n",
    "    img = cv2.imread(img_path)\n",
    "    if img is None:\n",
    "        raise FileNotFoundError(f\"Image not found at path: {img_path}\")\n",
    "    img = cv2.cvtColor(img, cv2.COLOR_BGR2RGB)  # Convert to RGB\n",
    "    img = cv2.resize(img, target_size)\n",
    "    img = img.astype(np.float32)\n",
    "    img = preprocess_input(img)  # Apply DenseNet preprocessing\n",
    "    return img\n",
    "\n",
    "def load_images_and_metadata(base_folder, df, target_size=(224, 224)):\n",
    "    images, metadata, labels = [], [], []\n",
    "    \n",
    "    # Iterate over each row in the dataframe\n",
    "    for i, row in df.iterrows():\n",
    "        folder_number = str(int(row['Number']))  # Convert 'Number' to integer and then to string\n",
    "        folder_path = os.path.join(base_folder, folder_number)\n",
    "        \n",
    "        # Check if the folder exists for the current 'Number'\n",
    "        if os.path.exists(folder_path):\n",
    "            # Loop through all files in the folder\n",
    "            for file_name in os.listdir(folder_path):\n",
    "                file_path = os.path.join(folder_path, file_name)\n",
    "                if os.path.isfile(file_path):  # Ensure it's a file\n",
    "                    try:\n",
    "                        # Preprocess the image\n",
    "                        img = preprocess_image(file_path, target_size)\n",
    "                        images.append(img)\n",
    "                        \n",
    "                        # Append the metadata and labels (linked by folder 'Number')\n",
    "                        metadata_features = [row['Age'], row['gender']]\n",
    "                        metadata.append(metadata_features)\n",
    "                        labels.append(row['Hgb'])\n",
    "                    except Exception as e:\n",
    "                        print(f\"Error processing image {file_path}: {e}\")\n",
    "        else:\n",
    "            print(f\"Warning: Folder {folder_number} does not exist. Skipping.\")\n",
    "    \n",
    "    return np.array(images), np.array(metadata), np.array(labels)\n",
    "\n",
    "# Set the base folder where images are stored\n",
    "base_folder = \"D:/Me/grad/dataset anemia (1)/dataset anemia/Final_Data\"\n",
    "\n",
    "# Example: Assuming your dataframe 'df' is loaded and contains the necessary metadata\n",
    "# Columns in df: ['Number', 'Age', 'gender', 'Age_Group', 'Hgb']\n",
    "images, metadata, labels = load_images_and_metadata(base_folder, df)\n",
    "\n",
    "print(\"Images shape:\", images.shape)  \n",
    "print(\"Metadata shape:\", metadata.shape)  \n",
    "print(\"Labels shape:\", labels.shape)\n"
   ]
  },
  {
   "cell_type": "code",
   "execution_count": 18,
   "metadata": {},
   "outputs": [
    {
     "name": "stderr",
     "output_type": "stream",
     "text": [
      "Clipping input data to the valid range for imshow with RGB data ([0..1] for floats or [0..255] for integers).\n",
      "Clipping input data to the valid range for imshow with RGB data ([0..1] for floats or [0..255] for integers).\n"
     ]
    },
    {
     "data": {
      "image/png": "[encoded data removed]",
      "text/plain": [
       "<Figure size 1200x600 with 2 Axes>"
      ]
     },
     "metadata": {},
     "output_type": "display_data"
    }
   ],
   "source": [
    "import matplotlib.pyplot as plt\n",
    "\n",
    "# Function to visualize images with metadata\n",
    "def visualize_images(images, metadata, num_samples=2):\n",
    "    # Number of images to display from the start and end\n",
    "    start_images = images[:num_samples]\n",
    "    end_images = images[-num_samples:]\n",
    "\n",
    "    start_metadata = metadata[:num_samples]\n",
    "\n",
    "    all_images = list(start_images) + list(end_images)\n",
    "    all_metadata = list(start_metadata) \n",
    "\n",
    "    plt.figure(figsize=(12, 6))\n",
    "\n",
    "    for i, (img, meta) in enumerate(zip(all_images, all_metadata)):\n",
    "        plt.subplot(2, num_samples, i + 1)\n",
    "        plt.imshow((img + 1) / 2)  # DenseNet preprocess scales pixels to [-1, 1]; rescale to [0, 1]\n",
    "        plt.axis('off')\n",
    "        metadata_text = f\"Age: {meta[0]}, Gender: {meta[1]}\"\n",
    "        plt.title(metadata_text, fontsize=8)\n",
    "\n",
    "    plt.tight_layout()\n",
    "    plt.show()\n",
    "\n",
    "# Visualize the first 2 and last 2 images with metadata\n",
    "visualize_images(images, metadata, num_samples=2)\n"
   ]
  },
  {
   "cell_type": "code",
   "execution_count": 19,
   "metadata": {},
   "outputs": [
    {
     "name": "stdout",
     "output_type": "stream",
     "text": [
      "All images are correctly aligned with metadata.\n"
     ]
    }
   ],
   "source": [
    "# Function to verify that images and metadata are correctly aligned\n",
    "def verify_images_metadata(images, metadata):\n",
    "    if len(images) != len(metadata):\n",
    "        print(\"Mismatch: Number of images and metadata entries do not align.\")\n",
    "        return False\n",
    "    \n",
    "    for i, (img, meta) in enumerate(zip(images, metadata)):\n",
    "        if img is None or meta is None:\n",
    "            print(f\"Error: Missing data at index {i}.\")\n",
    "            return False\n",
    "    \n",
    "    print(\"All images are correctly aligned with metadata.\")\n",
    "    return True\n",
    "\n",
    "# Verify the alignment\n",
    "is_correct = verify_images_metadata(images, metadata)\n"
   ]
  },
  {
   "cell_type": "code",
   "execution_count": 20,
   "metadata": {},
   "outputs": [
    {
     "name": "stdout",
     "output_type": "stream",
     "text": [
      "Augmented images shape: (3255, 224, 224, 3)\n",
      "Augmented metadata shape: (3255, 2)\n",
      "Augmented labels shape: 3255\n"
     ]
    }
   ],
   "source": [
    "from tensorflow.keras.preprocessing.image import ImageDataGenerator\n",
    "import numpy as np\n",
    "\n",
    "# Initialize the image data generator\n",
    "image_augmentor = ImageDataGenerator(\n",
    "    rotation_range=15,\n",
    "    width_shift_range=0.2,\n",
    "    height_shift_range=0.2,\n",
    "    shear_range=0.2,\n",
    "    zoom_range=0.2,\n",
    "    horizontal_flip=True,\n",
    "    fill_mode=\"nearest\"\n",
    ")\n",
    "\n",
    "# Function to augment data\n",
    "def augment_data(images, metadata, labels, num_augmentations=15):\n",
    "    augmented_images, augmented_metadata, augmented_labels = [], [], []\n",
    "    for i in range(len(images)):\n",
    "        img = np.expand_dims(images[i], axis=0)  # Expand dimensions for generator\n",
    "        meta = metadata[i]\n",
    "        label = labels[i]\n",
    "        aug_iter = image_augmentor.flow(img, batch_size=1)\n",
    "        \n",
    "        for _ in range(num_augmentations):\n",
    "            aug_img = aug_iter.next()[0]  # Generate augmented image\n",
    "            augmented_images.append(aug_img)\n",
    "            augmented_metadata.append(meta)  # Duplicate metadata\n",
    "            augmented_labels.append(label)  # Duplicate label\n",
    "    \n",
    "    return np.array(augmented_images), np.array(augmented_metadata), np.array(augmented_labels)\n",
    "\n",
    "# Perform augmentation\n",
    "aug_images, aug_metadata, aug_labels = augment_data(images, metadata, labels, num_augmentations=15)\n",
    "\n",
    "# Check shapes of augmented data\n",
    "print(\"Augmented images shape:\", aug_images.shape)\n",
    "print(\"Augmented metadata shape:\", aug_metadata.shape)\n",
    "print(\"Augmented labels shape:\", len(aug_labels))\n"
   ]
  },
  {
   "cell_type": "code",
   "execution_count": 21,
   "metadata": {},
   "outputs": [],
   "source": [
    "X_train_meta, X_test_meta, y_train_meta, y_test_meta = train_test_split(aug_metadata, aug_labels, test_size=0.2, random_state=42)\n"
   ]
  },
  {
   "cell_type": "code",
   "execution_count": 22,
   "metadata": {},
   "outputs": [
    {
     "name": "stdout",
     "output_type": "stream",
     "text": [
      "Train Metadata Shape (scaled): (2604, 2)\n",
      "Test Metadata Shape (scaled): (651, 2)\n"
     ]
    }
   ],
   "source": [
    "from sklearn.preprocessing import  StandardScaler\n",
    "scaler = StandardScaler()\n",
    "\n",
    "# Fit the scaler on the training metadata and transform both train and test sets\n",
    "meta_train = scaler.fit_transform(X_train_meta)\n",
    "meta_test = scaler.transform(X_test_meta)\n",
    "\n",
    "# Print shapes to confirm\n",
    "print(\"Train Metadata Shape (scaled):\", meta_train.shape)\n",
    "print(\"Test Metadata Shape (scaled):\", meta_test.shape)"
   ]
  },
  {
   "cell_type": "code",
   "execution_count": 23,
   "metadata": {},
   "outputs": [
    {
     "name": "stdout",
     "output_type": "stream",
     "text": [
      "Metadata Model Train Loss (MSE): 1.8429658414409533\n",
      "Metadata Model Test Loss (MSE): 1.702357047816843\n",
      "Metadata Model Train R^2: 0.6711622925270927\n",
      "Metadata Model Test R^2: 0.6824712835981248\n"
     ]
    }
   ],
   "source": [
    "from sklearn.metrics import mean_absolute_error, mean_squared_error, r2_score\n",
    "\n",
    "metadata_model = RandomForestRegressor(n_estimators=300, random_state=42,max_depth=15)\n",
    "metadata_model.fit(X_train_meta, y_train_meta)\n",
    "\n",
    "# Make predictions\n",
    "metadata_train_predictions = metadata_model.predict(X_train_meta)\n",
    "metadata_test_predictions = metadata_model.predict(X_test_meta)\n",
    "\n",
    "meta_train_loss = mean_squared_error(y_train_meta, metadata_train_predictions)\n",
    "meta_test_loss = mean_squared_error(y_test_meta, metadata_test_predictions)\n",
    "meta_train_r2 = r2_score(y_train_meta, metadata_train_predictions)\n",
    "meta_test_r2 = r2_score(y_test_meta, metadata_test_predictions)\n",
    "\n",
    "print(f\"Metadata Model Train Loss (MSE): {meta_train_loss}\")\n",
    "print(f\"Metadata Model Test Loss (MSE): {meta_test_loss}\")\n",
    "print(f\"Metadata Model Train R^2: {meta_train_r2}\")\n",
    "print(f\"Metadata Model Test R^2: {meta_test_r2}\")\n"
   ]
  },
  {
   "cell_type": "code",
   "execution_count": 48,
   "metadata": {},
   "outputs": [],
   "source": [
    "import numpy as np\n",
    "from skimage.color import rgb2lab, rgb2gray\n",
    "from skimage import img_as_float\n",
    "from scipy.stats import skew, kurtosis\n",
    "\n",
    "def extract_color_features(images):\n",
    "    features = []\n",
    "\n",
    "    for img in images:\n",
    "        # Normalize the image (if necessary) to the range [0, 1]\n",
    "        img = img_as_float(img)\n",
    "\n",
    "        # Convert image to LAB color space\n",
    "        lab = rgb2lab(img)\n",
    "\n",
    "        # Extract L, A, B channels\n",
    "        L, A, B = lab[:, :, 0], lab[:, :, 1], lab[:, :, 2]\n",
    "\n",
    "        # Calculate statistical moments (mean, std, skew, kurtosis) for each channel\n",
    "        l_mean, l_std, l_skew, l_kurt = np.mean(L), np.std(L), skew(L.flatten()), kurtosis(L.flatten())\n",
    "        a_mean, a_std, a_skew, a_kurt = np.mean(A), np.std(A), skew(A.flatten()), kurtosis(A.flatten())\n",
    "        b_mean, b_std, b_skew, b_kurt = np.mean(B), np.std(B), skew(B.flatten()), kurtosis(B.flatten())\n",
    "\n",
    "        # Histograms for each channel (normalized)\n",
    "        l_hist, _ = np.histogram(L.flatten(), bins=256, range=(0, 100), density=True)\n",
    "        a_hist, _ = np.histogram(A.flatten(), bins=256, range=(-128, 128), density=True)\n",
    "        b_hist, _ = np.histogram(B.flatten(), bins=256, range=(-128, 128), density=True)\n",
    "\n",
    "        # Flatten histograms and concatenate with other features\n",
    "        hist_features = np.concatenate([l_hist, a_hist, b_hist])\n",
    "\n",
    "        # Combine all extracted features into a single feature vector\n",
    "        feature_vector = np.array([l_mean, l_std, l_skew, l_kurt, a_mean, a_std, a_skew, a_kurt, b_mean, b_std, b_skew, b_kurt])\n",
    "        feature_vector = np.concatenate([feature_vector, hist_features])\n",
    "\n",
    "        features.append(feature_vector)\n",
    "\n",
    "    return np.array(features)\n",
    "\n",
    "# Example usage\n",
    "# Assuming aug_images is a list of RGB images\n",
    "color_features = extract_color_features(aug_images)\n"
   ]
  },
  {
   "cell_type": "code",
   "execution_count": 50,
   "metadata": {},
   "outputs": [],
   "source": [
    "# Split data for ML model\n",
    "X_color_train, X_color_val, y_color_train, y_color_val = train_test_split(\n",
    "    color_features, aug_labels, test_size=0.2, random_state=42\n",
    ")\n",
    "\n"
   ]
  },
  {
   "cell_type": "code",
   "execution_count": 80,
   "metadata": {},
   "outputs": [
    {
     "name": "stdout",
     "output_type": "stream",
     "text": [
      "Evaluation Results for Color Features Model:\n",
      "Mean Squared Error (MSE): 0.5094\n",
      "Root Mean Squared Error (RMSE): 0.7137\n",
      "Mean Absolute Error (MAE): 0.4867\n",
      "R² Score: 0.9050\n"
     ]
    }
   ],
   "source": [
    "# Train ML model on color features\n",
    "color_model = RandomForestRegressor(n_estimators=200, random_state=42)\n",
    "color_model.fit(X_color_train, y_color_train)\n",
    "# Make predictions on the validation set\n",
    "y_color_pred = color_model.predict(X_color_val)\n",
    "\n",
    "# Calculate evaluation metrics\n",
    "mse = mean_squared_error(y_color_val, y_color_pred)\n",
    "rmse = np.sqrt(mse)\n",
    "mae = mean_absolute_error(y_color_val, y_color_pred)\n",
    "r2 = r2_score(y_color_val, y_color_pred)\n",
    "\n",
    "# Print results\n",
    "print(\"Evaluation Results for Color Features Model:\")\n",
    "print(f\"Mean Squared Error (MSE): {mse:.4f}\")\n",
    "print(f\"Root Mean Squared Error (RMSE): {rmse:.4f}\")\n",
    "print(f\"Mean Absolute Error (MAE): {mae:.4f}\")\n",
    "print(f\"R² Score: {r2:.4f}\")"
   ]
  },
  {
   "cell_type": "code",
   "execution_count": 81,
   "metadata": {},
   "outputs": [],
   "source": [
    "color_predictions_train = color_model.predict(X_color_train)  \n"
   ]
  },
  {
   "cell_type": "code",
   "execution_count": 82,
   "metadata": {},
   "outputs": [
    {
     "name": "stdout",
     "output_type": "stream",
     "text": [
      "Final Model Evaluation with XGBoost:\n",
      "Mean Squared Error (MSE): 0.3607\n",
      "Mean Absolute Error (MAE): 0.3246\n",
      "R² Score: 0.9327\n"
     ]
    }
   ],
   "source": [
    "# Combine predictions as features for the final model\n",
    "combined_train_features = np.column_stack((metadata_train_predictions, color_predictions_train))\n",
    "combined_val_features = np.column_stack((metadata_test_predictions, y_color_pred)) \n",
    "\n",
    "# Train the final model using XGBoost\n",
    "\n",
    "final_model = xgb.XGBRegressor(n_estimators=200, random_state=50)\n",
    "final_model.fit(combined_train_features, y_color_train)\n",
    "\n",
    "# Make predictions using the final model\n",
    "final_predictions_val = final_model.predict(combined_val_features)\n",
    "\n",
    "# Evaluate the final model\n",
    "final_mse = mean_squared_error(y_color_val, final_predictions_val)\n",
    "final_rmse = np.sqrt(final_mse)\n",
    "final_mae = mean_absolute_error(y_color_val, final_predictions_val)\n",
    "final_r2 = r2_score(y_color_val, final_predictions_val)\n",
    "\n",
    "# Print evaluation results\n",
    "print(\"Final Model Evaluation with XGBoost:\")\n",
    "print(f\"Mean Squared Error (MSE): {final_mse:.4f}\")\n",
    "print(f\"Mean Absolute Error (MAE): {final_mae:.4f}\")\n",
    "print(f\"R² Score: {final_r2:.4f}\")\n"
   ]
  },
  {
   "cell_type": "code",
   "execution_count": 83,
   "metadata": {},
   "outputs": [
    {
     "name": "stdout",
     "output_type": "stream",
     "text": [
      "Comparison of Actual and Predicted Hgb Levels:\n",
      "Actual Hgb     Predicted Hgb  \n",
      "------------------------------\n",
      "8.70           9.80           \n",
      "9.80           10.10          \n",
      "11.30          11.82          \n",
      "15.70          15.69          \n",
      "16.20          16.03          \n",
      "14.70          14.62          \n",
      "15.60          15.57          \n",
      "10.70          11.04          \n",
      "13.40          13.39          \n",
      "8.80           8.82           \n",
      "12.90          14.00          \n",
      "15.50          15.54          \n",
      "14.70          15.48          \n",
      "15.60          15.41          \n",
      "16.70          16.57          \n",
      "14.10          14.24          \n",
      "13.70          14.44          \n",
      "14.80          15.06          \n",
      "13.40          12.82          \n",
      "14.10          12.81          \n",
      "9.60           10.62          \n",
      "12.60          12.57          \n",
      "12.20          11.54          \n",
      "13.70          12.64          \n",
      "13.20          13.15          \n",
      "13.50          13.60          \n",
      "12.70          12.69          \n",
      "12.60          12.39          \n",
      "12.00          11.98          \n",
      "12.00          12.00          \n",
      "12.68          12.64          \n",
      "12.60          12.86          \n",
      "15.50          15.83          \n",
      "13.70          13.93          \n",
      "10.70          11.30          \n",
      "15.20          14.89          \n",
      "14.00          14.32          \n",
      "11.00          12.18          \n",
      "15.10          15.19          \n",
      "15.30          15.27          \n",
      "16.80          16.71          \n",
      "7.80           9.20           \n",
      "11.30          11.30          \n",
      "13.00          13.13          \n",
      "12.70          12.73          \n",
      "12.50          12.47          \n",
      "13.30          13.98          \n",
      "9.70           10.55          \n",
      "15.10          15.05          \n",
      "16.70          16.63          \n",
      "9.80           9.79           \n",
      "13.90          13.86          \n",
      "13.62          13.07          \n",
      "13.90          13.87          \n",
      "12.40          12.40          \n",
      "15.40          15.46          \n",
      "9.82           10.70          \n",
      "11.60          11.62          \n",
      "14.77          14.58          \n",
      "15.30          15.30          \n",
      "13.00          13.77          \n",
      "7.00           7.00           \n",
      "10.70          10.70          \n",
      "10.50          11.12          \n",
      "12.50          12.48          \n",
      "15.80          15.76          \n",
      "15.00          14.47          \n",
      "12.20          11.76          \n",
      "11.75          11.71          \n",
      "7.60           8.23           \n",
      "15.10          14.84          \n",
      "13.60          13.62          \n",
      "10.00          10.53          \n",
      "13.80          13.12          \n",
      "10.00          9.94           \n",
      "11.30          11.96          \n",
      "14.80          14.87          \n",
      "15.30          15.27          \n",
      "12.70          13.12          \n",
      "13.40          12.70          \n",
      "10.20          9.88           \n",
      "13.00          13.41          \n",
      "16.90          16.68          \n",
      "9.20           9.20           \n",
      "13.90          14.38          \n",
      "13.50          13.30          \n",
      "8.60           8.62           \n",
      "15.40          15.46          \n",
      "12.20          12.49          \n",
      "15.40          15.43          \n",
      "13.00          13.50          \n",
      "12.00          12.00          \n",
      "10.70          11.50          \n",
      "14.50          14.48          \n",
      "10.00          10.11          \n",
      "16.90          16.48          \n",
      "14.10          14.04          \n",
      "12.70          12.68          \n",
      "13.70          13.95          \n",
      "13.50          13.51          \n",
      "10.93          10.84          \n",
      "15.30          15.30          \n",
      "13.70          12.59          \n",
      "10.50          10.50          \n",
      "15.00          14.68          \n",
      "9.82           9.88           \n",
      "11.00          11.00          \n",
      "17.40          17.40          \n",
      "11.40          11.35          \n",
      "8.50           8.43           \n",
      "10.50          10.50          \n",
      "11.75          12.23          \n",
      "14.90          14.93          \n",
      "12.30          13.55          \n",
      "15.00          14.48          \n",
      "10.00          10.00          \n",
      "11.00          11.02          \n",
      "16.40          15.42          \n",
      "14.90          14.90          \n",
      "15.50          15.89          \n",
      "14.00          14.00          \n",
      "15.40          15.40          \n",
      "14.10          13.96          \n",
      "11.90          11.90          \n",
      "10.50          10.48          \n",
      "12.80          12.80          \n",
      "10.00          10.00          \n",
      "13.90          14.57          \n",
      "12.30          12.30          \n",
      "12.30          12.08          \n",
      "15.80          15.60          \n",
      "12.90          12.90          \n",
      "8.00           8.00           \n",
      "13.80          13.10          \n",
      "16.20          16.21          \n",
      "11.20          11.30          \n",
      "9.90           9.90           \n",
      "12.68          12.66          \n",
      "12.60          13.77          \n",
      "17.10          14.90          \n",
      "13.62          13.62          \n",
      "13.70          12.39          \n",
      "11.30          11.40          \n",
      "10.70          10.85          \n",
      "11.30          11.25          \n",
      "11.20          11.35          \n",
      "12.70          12.70          \n",
      "10.20          10.20          \n",
      "12.00          11.48          \n",
      "11.40          11.25          \n",
      "9.60           9.60           \n",
      "12.20          11.55          \n",
      "8.70           9.75           \n",
      "13.70          13.99          \n",
      "13.80          13.90          \n",
      "15.40          15.43          \n",
      "15.30          15.27          \n",
      "11.50          11.98          \n",
      "12.00          11.23          \n",
      "12.30          13.11          \n",
      "9.60           9.61           \n",
      "14.80          15.03          \n",
      "13.62          14.11          \n",
      "11.20          11.20          \n",
      "15.20          14.95          \n",
      "13.90          14.37          \n",
      "9.30           9.39           \n",
      "9.50           9.54           \n",
      "16.80          16.79          \n",
      "9.70           9.73           \n",
      "15.80          15.49          \n",
      "15.40          15.40          \n",
      "13.50          13.71          \n",
      "10.30          10.29          \n",
      "14.10          14.91          \n",
      "10.50          10.49          \n",
      "9.20           9.27           \n",
      "13.70          13.80          \n",
      "9.30           9.99           \n",
      "15.40          15.67          \n",
      "10.00          10.00          \n",
      "10.50          10.51          \n",
      "13.90          14.04          \n",
      "15.60          15.52          \n",
      "16.90          16.68          \n",
      "10.10          10.53          \n",
      "13.50          13.74          \n",
      "10.70          11.03          \n",
      "13.50          13.50          \n",
      "14.80          14.81          \n",
      "11.75          12.17          \n",
      "15.00          14.99          \n",
      "14.20          13.67          \n",
      "13.90          13.93          \n",
      "15.70          15.65          \n",
      "16.10          15.81          \n",
      "10.50          10.50          \n",
      "15.45          13.91          \n",
      "12.68          12.67          \n",
      "8.20           9.10           \n",
      "15.70          15.47          \n",
      "16.10          15.94          \n",
      "15.10          14.94          \n",
      "9.70           9.70           \n",
      "10.50          10.53          \n",
      "11.90          12.12          \n",
      "11.00          10.99          \n",
      "9.20           10.05          \n",
      "14.00          14.45          \n",
      "15.40          15.45          \n",
      "11.30          11.28          \n",
      "14.10          15.03          \n",
      "13.70          13.96          \n",
      "7.60           8.24           \n",
      "13.60          12.60          \n",
      "14.10          14.76          \n",
      "15.50          15.19          \n",
      "15.10          15.02          \n",
      "14.70          15.45          \n",
      "15.70          15.65          \n",
      "15.40          15.54          \n",
      "7.00           10.60          \n",
      "15.10          15.10          \n",
      "11.40          11.40          \n",
      "13.90          14.09          \n",
      "12.30          13.68          \n",
      "12.20          12.20          \n",
      "15.40          15.39          \n",
      "12.20          12.47          \n",
      "10.30          10.30          \n",
      "11.70          11.71          \n",
      "10.60          10.60          \n",
      "15.50          15.40          \n",
      "13.70          11.28          \n",
      "11.70          11.99          \n",
      "10.60          10.60          \n",
      "13.40          13.70          \n",
      "11.60          11.61          \n",
      "11.90          11.93          \n",
      "10.90          10.85          \n",
      "14.70          14.71          \n",
      "14.10          14.11          \n",
      "9.35           10.28          \n",
      "10.90          10.90          \n",
      "15.00          13.89          \n",
      "11.30          11.30          \n",
      "13.80          13.69          \n",
      "14.10          14.36          \n",
      "12.70          12.70          \n",
      "10.00          9.96           \n",
      "9.50           9.92           \n",
      "9.80           10.05          \n",
      "12.40          12.58          \n",
      "15.40          15.37          \n",
      "8.30           8.26           \n",
      "16.20          16.17          \n",
      "8.10           9.05           \n",
      "11.80          11.61          \n",
      "15.20          14.86          \n",
      "13.62          13.79          \n",
      "13.70          13.89          \n",
      "11.20          11.70          \n",
      "15.40          15.01          \n",
      "13.30          13.29          \n",
      "11.50          11.49          \n",
      "12.60          12.61          \n",
      "13.00          12.95          \n",
      "8.10           10.78          \n",
      "13.40          14.81          \n",
      "14.70          15.50          \n",
      "12.60          12.38          \n",
      "10.90          10.87          \n",
      "10.90          10.90          \n",
      "13.90          13.88          \n",
      "11.70          11.96          \n",
      "15.50          13.68          \n",
      "13.30          13.29          \n",
      "15.50          15.46          \n",
      "10.00          10.01          \n",
      "11.00          11.00          \n",
      "9.80           9.79           \n",
      "15.45          13.79          \n",
      "14.50          14.63          \n",
      "11.00          11.92          \n",
      "12.20          14.27          \n",
      "14.30          14.31          \n",
      "15.00          14.24          \n",
      "13.70          14.31          \n",
      "13.60          14.44          \n",
      "14.77          14.58          \n",
      "13.90          13.86          \n",
      "8.70           9.66           \n",
      "10.90          10.90          \n",
      "11.50          12.07          \n",
      "9.20           9.39           \n",
      "13.70          14.15          \n",
      "9.30           9.99           \n",
      "13.20          13.64          \n",
      "14.10          14.50          \n",
      "10.60          10.69          \n",
      "17.40          17.40          \n",
      "12.40          12.36          \n",
      "9.30           9.27           \n",
      "9.70           9.71           \n",
      "10.70          10.85          \n",
      "13.30          12.88          \n",
      "11.20          11.23          \n",
      "11.00          11.02          \n",
      "11.90          12.26          \n",
      "10.30          10.30          \n",
      "15.20          14.95          \n",
      "12.20          11.51          \n",
      "13.70          13.61          \n",
      "15.40          15.50          \n",
      "10.70          10.70          \n",
      "13.80          12.64          \n",
      "11.20          11.93          \n",
      "12.70          12.70          \n",
      "10.70          11.11          \n",
      "10.00          10.63          \n",
      "13.80          14.46          \n",
      "14.00          14.62          \n",
      "16.70          16.63          \n",
      "14.10          14.37          \n",
      "14.00          14.58          \n",
      "12.68          12.66          \n",
      "7.00           8.60           \n",
      "16.70          16.63          \n",
      "15.60          15.52          \n",
      "15.10          14.71          \n",
      "13.80          13.29          \n",
      "15.80          15.68          \n",
      "15.10          15.10          \n",
      "15.00          14.99          \n",
      "14.90          14.90          \n",
      "10.30          10.30          \n",
      "10.50          10.50          \n",
      "12.50          12.48          \n",
      "15.10          15.29          \n",
      "10.00          10.00          \n",
      "11.40          11.40          \n",
      "10.50          10.53          \n",
      "13.70          11.89          \n",
      "13.80          13.89          \n",
      "12.60          12.21          \n",
      "9.20           9.20           \n",
      "13.70          13.71          \n",
      "11.00          11.00          \n",
      "17.40          17.40          \n",
      "10.30          10.49          \n",
      "14.80          15.26          \n",
      "9.30           9.27           \n",
      "13.30          13.69          \n",
      "13.80          13.55          \n",
      "13.70          14.00          \n",
      "12.60          12.57          \n",
      "10.60          10.60          \n",
      "15.20          11.18          \n",
      "8.10           8.11           \n",
      "10.60          10.98          \n",
      "16.50          16.48          \n",
      "13.70          13.71          \n",
      "14.10          14.06          \n",
      "9.80           9.80           \n",
      "9.70           10.57          \n",
      "15.50          15.49          \n",
      "14.77          13.13          \n",
      "13.50          14.31          \n",
      "10.93          12.18          \n",
      "8.20           7.95           \n",
      "10.00          10.66          \n",
      "15.50          12.68          \n",
      "8.80           8.82           \n",
      "12.20          12.63          \n",
      "13.00          13.24          \n",
      "8.10           8.74           \n",
      "10.60          10.65          \n",
      "13.70          12.95          \n",
      "10.90          12.00          \n",
      "12.80          12.86          \n",
      "14.00          14.02          \n",
      "12.30          12.08          \n",
      "11.70          11.69          \n",
      "16.40          16.39          \n",
      "12.60          12.37          \n",
      "15.45          15.25          \n",
      "12.60          12.58          \n",
      "15.30          14.80          \n",
      "14.80          14.80          \n",
      "15.40          15.00          \n",
      "13.30          13.32          \n",
      "9.10           9.32           \n",
      "13.40          13.37          \n",
      "14.00          14.24          \n",
      "13.62          13.64          \n",
      "15.60          15.27          \n",
      "13.90          14.31          \n",
      "10.90          10.90          \n",
      "11.75          12.23          \n",
      "15.10          15.05          \n",
      "11.40          10.85          \n",
      "14.10          13.36          \n",
      "13.70          13.63          \n",
      "15.00          14.68          \n",
      "11.00          11.20          \n",
      "11.20          11.23          \n",
      "8.80           9.92           \n",
      "15.30          15.02          \n",
      "9.60           9.67           \n",
      "12.40          12.51          \n",
      "15.50          15.70          \n",
      "7.00           11.82          \n",
      "15.40          15.12          \n",
      "11.00          12.44          \n",
      "15.45          14.82          \n",
      "14.10          14.00          \n",
      "8.70           8.71           \n",
      "10.20          10.20          \n",
      "10.60          10.60          \n",
      "8.20           9.10           \n",
      "8.90           9.75           \n",
      "14.50          14.44          \n",
      "15.45          15.01          \n",
      "12.90          12.86          \n",
      "13.80          13.56          \n",
      "15.40          15.59          \n",
      "10.93          11.77          \n",
      "15.30          15.30          \n",
      "9.10           8.46           \n",
      "15.00          14.20          \n",
      "10.00          9.97           \n",
      "10.80          10.80          \n",
      "15.80          15.59          \n",
      "9.20           9.19           \n",
      "14.90          14.71          \n",
      "11.60          11.61          \n",
      "15.00          14.99          \n",
      "11.20          11.93          \n",
      "12.20          11.90          \n",
      "13.70          13.67          \n",
      "15.00          14.96          \n",
      "10.70          11.30          \n",
      "9.90           10.68          \n",
      "14.10          14.40          \n",
      "9.70           11.25          \n",
      "13.40          13.39          \n",
      "15.80          15.61          \n",
      "15.40          15.41          \n",
      "11.70          11.99          \n",
      "12.68          12.77          \n",
      "16.40          15.94          \n",
      "10.93          10.93          \n",
      "9.60           10.21          \n",
      "12.40          12.40          \n",
      "12.30          13.07          \n",
      "10.00          10.00          \n",
      "9.80           10.05          \n",
      "10.00          10.00          \n",
      "9.10           9.06           \n",
      "10.90          10.90          \n",
      "14.10          14.56          \n",
      "13.70          12.86          \n",
      "14.70          14.72          \n",
      "8.90           9.04           \n",
      "9.20           9.19           \n",
      "15.70          15.65          \n",
      "12.70          12.69          \n",
      "13.80          13.61          \n",
      "14.10          11.32          \n",
      "12.00          11.28          \n",
      "14.50          14.63          \n",
      "7.60           7.60           \n",
      "13.00          13.09          \n",
      "15.60          15.51          \n",
      "11.30          11.93          \n",
      "13.40          12.70          \n",
      "10.00          10.54          \n",
      "15.50          15.49          \n",
      "15.00          14.99          \n",
      "16.90          16.48          \n",
      "15.10          15.07          \n",
      "16.40          16.11          \n",
      "15.40          15.40          \n",
      "15.40          15.46          \n",
      "13.90          14.35          \n",
      "12.20          12.20          \n",
      "14.00          14.10          \n",
      "15.00          14.61          \n",
      "15.20          14.86          \n",
      "13.70          12.57          \n",
      "10.70          10.69          \n",
      "14.10          14.44          \n",
      "15.50          14.07          \n",
      "13.90          13.95          \n",
      "15.60          15.56          \n",
      "10.00          10.00          \n",
      "12.20          12.70          \n",
      "13.10          13.10          \n",
      "9.10           9.32           \n",
      "10.10          10.98          \n",
      "13.70          14.10          \n",
      "15.00          13.60          \n",
      "12.70          12.70          \n",
      "8.70           8.70           \n",
      "9.35           9.35           \n",
      "14.80          15.07          \n",
      "15.10          15.10          \n",
      "14.80          14.79          \n",
      "13.60          11.85          \n",
      "15.10          15.01          \n",
      "11.80          11.86          \n",
      "9.10           9.06           \n",
      "15.70          15.49          \n",
      "14.00          13.69          \n",
      "11.20          11.23          \n",
      "9.30           9.42           \n",
      "13.60          14.03          \n",
      "12.20          11.54          \n",
      "15.50          15.49          \n",
      "13.60          13.93          \n",
      "10.10          10.10          \n",
      "14.10          14.24          \n",
      "15.40          15.40          \n",
      "14.10          14.90          \n",
      "12.20          11.45          \n",
      "13.80          14.28          \n",
      "15.80          15.72          \n",
      "11.40          11.01          \n",
      "15.20          14.87          \n",
      "11.30          11.28          \n",
      "14.40          14.39          \n",
      "12.60          12.99          \n",
      "10.60          10.60          \n",
      "11.10          11.24          \n",
      "13.00          13.22          \n",
      "17.10          17.00          \n",
      "12.00          12.00          \n",
      "13.90          14.05          \n",
      "14.10          12.86          \n",
      "15.00          11.86          \n",
      "15.10          15.10          \n",
      "12.50          12.47          \n",
      "13.70          14.95          \n",
      "11.90          11.98          \n",
      "9.10           9.10           \n",
      "15.20          15.12          \n",
      "15.40          15.32          \n",
      "12.90          12.61          \n",
      "15.40          15.46          \n",
      "11.60          11.29          \n",
      "11.70          11.90          \n",
      "7.00           7.00           \n",
      "7.80           9.08           \n",
      "12.70          12.68          \n",
      "15.10          14.94          \n",
      "13.80          14.00          \n",
      "14.00          14.05          \n",
      "9.50           9.58           \n",
      "13.30          14.23          \n",
      "10.80          10.80          \n",
      "13.70          13.86          \n",
      "13.00          13.81          \n",
      "12.70          13.03          \n",
      "7.80           8.90           \n",
      "11.20          11.23          \n",
      "15.40          15.22          \n",
      "14.50          14.16          \n",
      "11.50          11.49          \n",
      "14.20          14.09          \n",
      "11.50          11.30          \n",
      "15.80          15.68          \n",
      "9.10           9.43           \n",
      "8.70           9.30           \n",
      "10.30          10.29          \n",
      "14.30          14.27          \n",
      "8.50           9.26           \n",
      "8.30           8.61           \n",
      "11.50          11.50          \n",
      "15.30          15.30          \n",
      "15.30          15.30          \n",
      "14.80          14.80          \n",
      "13.90          14.71          \n",
      "12.20          12.22          \n",
      "14.90          14.91          \n",
      "14.80          14.79          \n",
      "14.50          14.50          \n",
      "9.60           9.60           \n",
      "10.30          10.48          \n",
      "14.30          14.29          \n",
      "14.10          14.44          \n",
      "13.20          13.64          \n",
      "12.60          12.56          \n",
      "15.10          14.60          \n",
      "13.90          13.90          \n",
      "15.40          15.24          \n",
      "15.70          15.69          \n",
      "12.40          12.40          \n",
      "10.80          10.80          \n",
      "8.20           8.16           \n",
      "12.20          11.67          \n",
      "15.90          15.00          \n",
      "11.30          11.28          \n",
      "15.40          15.50          \n",
      "15.50          14.82          \n",
      "13.80          14.01          \n",
      "13.70          13.73          \n",
      "15.30          14.93          \n",
      "10.00          9.94           \n",
      "13.50          13.08          \n",
      "11.70          11.90          \n",
      "11.80          11.84          \n",
      "15.20          14.87          \n",
      "9.20           9.39           \n",
      "8.90           9.75           \n",
      "14.10          14.02          \n",
      "10.60          10.74          \n",
      "11.30          11.91          \n",
      "13.90          14.36          \n",
      "15.10          14.69          \n",
      "15.00          15.00          \n",
      "11.30          11.30          \n",
      "9.50           9.90           \n",
      "15.10          15.07          \n",
      "14.40          14.54          \n",
      "11.60          11.62          \n",
      "12.20          12.37          \n",
      "9.10           9.43           \n",
      "10.70          10.84          \n",
      "12.68          12.77          \n",
      "12.50          12.58          \n",
      "15.40          15.60          \n",
      "11.40          11.01          \n",
      "8.70           9.96           \n",
      "15.40          15.12          \n",
      "9.82           9.83           \n",
      "13.90          13.87          \n",
      "13.50          12.95          \n",
      "14.10          14.12          \n",
      "14.20          14.17          \n",
      "11.70          12.38          \n",
      "15.00          14.94          \n",
      "14.30          14.16          \n",
      "15.50          14.77          \n",
      "15.20          14.90          \n",
      "8.90           9.79           \n",
      "14.70          15.45          \n",
      "16.90          16.90          \n",
      "14.10          14.10          \n",
      "11.40          11.25          \n",
      "15.10          15.09          \n",
      "13.00          13.51          \n"
     ]
    }
   ],
   "source": [
    "# Combine metadata and color predictions for validation set\n",
    "combined_val_features = np.column_stack((metadata_test_predictions, y_color_pred))\n",
    "\n",
    "# Predict Hgb levels using the final model\n",
    "final_predictions_val = final_model.predict(combined_val_features)\n",
    "\n",
    "# Print actual vs. predicted Hgb levels for validation set\n",
    "print(\"Comparison of Actual and Predicted Hgb Levels:\")\n",
    "print(f\"{'Actual Hgb':<15}{'Predicted Hgb':<15}\")\n",
    "print(\"-\" * 30)\n",
    "for actual, predicted in zip(y_color_val, final_predictions_val):\n",
    "    print(f\"{actual:<15.2f}{predicted:<15.2f}\")"
   ]
  },
  {
   "cell_type": "code",
   "execution_count": 71,
   "metadata": {},
   "outputs": [
    {
     "data": {
      "image/png": "[encoded data removed]",
      "text/plain": [
       "<Figure size 800x600 with 1 Axes>"
      ]
     },
     "metadata": {},
     "output_type": "display_data"
    }
   ],
   "source": [
    "plt.figure(figsize=(8, 6))\n",
    "plt.scatter(range(len(y_color_val)), y_color_val, color='blue', label='Actual Hgb', alpha=0.7)\n",
    "plt.scatter(range(len(final_predictions_val)), final_predictions_val, color='red', label='Predicted Hgb', alpha=0.7)\n",
    "plt.title(\"Comparison of Actual and Predicted Hgb Levels\")\n",
    "plt.xlabel(\"Sample Index\")\n",
    "plt.ylabel(\"Hgb Level\")\n",
    "plt.legend()\n",
    "plt.show()\n"
   ]
  }
 ],
 "metadata": {
  "kernelspec": {
   "display_name": "Python 3",
   "language": "python",
   "name": "python3"
  },
  "language_info": {
   "codemirror_mode": {
    "name": "ipython",
    "version": 3
   },
   "file_extension": ".py",
   "mimetype": "text/x-python",
   "name": "python",
   "nbconvert_exporter": "python",
   "pygments_lexer": "ipython3",
   "version": "3.10.0"
  }
 },
 "nbformat": 4,
 "nbformat_minor": 2
}
