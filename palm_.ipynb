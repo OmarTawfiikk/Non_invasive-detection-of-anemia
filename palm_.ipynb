{
 "cells": [
  {
   "cell_type": "code",
   "execution_count": 11,
   "metadata": {},
   "outputs": [
    {
     "name": "stdout",
     "output_type": "stream",
     "text": [
      "Loading dataset...\n"
     ]
    },
    {
     "name": "stderr",
     "output_type": "stream",
     "text": [
      "Processing anemic: 100%|██████████| 2562/2562 [00:02<00:00, 933.33it/s]\n",
      "Processing Non-anemic: 100%|██████████| 1698/1698 [00:02<00:00, 826.30it/s]\n"
     ]
    },
    {
     "name": "stdout",
     "output_type": "stream",
     "text": [
      "Extracting color features...\n"
     ]
    },
    {
     "name": "stderr",
     "output_type": "stream",
     "text": [
      "/home/oali/.local/lib/python3.10/site-packages/numpy/lib/_histograms_impl.py:901: RuntimeWarning: invalid value encountered in divide\n",
      "  return n/db/n.sum(), bin_edges\n"
     ]
    },
    {
     "name": "stdout",
     "output_type": "stream",
     "text": [
      "Number of training examples: 3195\n",
      "Number of validation examples: 426\n",
      "Number of testing examples: 639\n",
      "Each image is of size: (224, 224)\n",
      "Feature vector length: 780\n"
     ]
    }
   ],
   "source": [
    "import os\n",
    "import cv2\n",
    "import numpy as np\n",
    "from tqdm import tqdm\n",
    "from sklearn.utils import shuffle\n",
    "from tensorflow.keras.applications.mobilenet_v2 import preprocess_input\n",
    "from skimage.color import rgb2lab, rgb2gray\n",
    "from skimage import img_as_float\n",
    "# from scipy.stats import skew, kurtosis\n",
    "\n",
    "# Class names and their corresponding labels\n",
    "class_names = ['anemic', 'Non-anemic']  \n",
    "class_names_label = {class_name: i for i, class_name in enumerate(class_names)}\n",
    "\n",
    "IMAGE_SIZE = (224, 224)\n",
    "\n",
    "\n",
    "def load_data():\n",
    "    \"\"\"\n",
    "    Load the dataset and split it into training, validation, and testing sets.\n",
    "    \"\"\"\n",
    "    dataset_dir = '/home/oali/GP/phase 1/Anemia Detection using Palpable Palm Image Datasets from Ghana/Palm'\n",
    "    images = []\n",
    "    labels = []\n",
    "\n",
    "    print(\"Loading dataset...\")\n",
    "\n",
    "    for folder in class_names:\n",
    "        folder_path = os.path.join(dataset_dir, folder)\n",
    "        if not os.path.exists(folder_path):\n",
    "            print(f\"Warning: Folder '{folder}' does not exist in dataset directory.\")\n",
    "            continue\n",
    "        \n",
    "        label = class_names_label[folder]\n",
    "        \n",
    "        for file in tqdm(os.listdir(folder_path), desc=f\"Processing {folder}\"):\n",
    "            img_path = os.path.join(folder_path, file)\n",
    "            image = cv2.imread(img_path)\n",
    "            \n",
    "            if image is None:\n",
    "                print(f\"Warning: Failed to load image {img_path}. Skipping.\")\n",
    "                continue\n",
    "                \n",
    "            image = cv2.cvtColor(image, cv2.COLOR_BGR2RGB)\n",
    "            image = cv2.resize(image, IMAGE_SIZE)\n",
    "            \n",
    "            images.append(image)\n",
    "            labels.append(label)\n",
    "    \n",
    "    images = np.array(images, dtype='float32')\n",
    "    labels = np.array(labels, dtype='int32')\n",
    "    \n",
    "    images, labels = shuffle(images, labels, random_state=25)\n",
    "    \n",
    "    # Splitting the data into 75% train, 10% validation, and 15% test\n",
    "    split_1 = int(0.75 * len(images))\n",
    "    split_2 = int(0.85 * len(images))\n",
    "    \n",
    "    train_images, train_labels = images[:split_1], labels[:split_1]\n",
    "    val_images, val_labels = images[split_1:split_2], labels[split_1:split_2]\n",
    "    test_images, test_labels = images[split_2:], labels[split_2:]\n",
    "\n",
    "    return (train_images, train_labels), (val_images, val_labels), (test_images, test_labels)\n",
    "\n",
    "\n",
    "def extract_color_features(images):\n",
    "    \"\"\"\n",
    "    Extract color features from a list of images.\n",
    "    \"\"\"\n",
    "    features = []\n",
    "\n",
    "    for img in images:\n",
    "        # Normalize the image (if necessary) to the range [0, 1]\n",
    "        img = img_as_float(img)\n",
    "\n",
    "        # Convert image to LAB color space\n",
    "        lab = rgb2lab(img)\n",
    "\n",
    "        # Extract L, A, B channels\n",
    "        L, A, B = lab[:, :, 0], lab[:, :, 1], lab[:, :, 2]\n",
    "\n",
    "        # Calculate statistical moments (mean, std, skew, kurtosis) for each channel\n",
    "        l_mean, l_std, l_skew, l_kurt = np.mean(L), np.std(L), skew(L.flatten()), kurtosis(L.flatten())\n",
    "        a_mean, a_std, a_skew, a_kurt = np.mean(A), np.std(A), skew(A.flatten()), kurtosis(A.flatten())\n",
    "        b_mean, b_std, b_skew, b_kurt = np.mean(B), np.std(B), skew(B.flatten()), kurtosis(B.flatten())\n",
    "\n",
    "        # Histograms for each channel (normalized)\n",
    "        l_hist, _ = np.histogram(L.flatten(), bins=256, range=(0, 100), density=True)\n",
    "        a_hist, _ = np.histogram(A.flatten(), bins=256, range=(-128, 128), density=True)\n",
    "        b_hist, _ = np.histogram(B.flatten(), bins=256, range=(-128, 128), density=True)\n",
    "\n",
    "        # Flatten histograms and concatenate with other features\n",
    "        hist_features = np.concatenate([l_hist, a_hist, b_hist])\n",
    "\n",
    "        # Combine all extracted features into a single feature vector\n",
    "        feature_vector = np.array([l_mean, l_std, l_skew, l_kurt, a_mean, a_std, a_skew, a_kurt, b_mean, b_std, b_skew, b_kurt])\n",
    "        feature_vector = np.concatenate([feature_vector, hist_features])\n",
    "\n",
    "        features.append(feature_vector)\n",
    "\n",
    "    return np.array(features)\n",
    "\n",
    "\n",
    "# Load the dataset\n",
    "(train_images, train_labels), (val_images, val_labels), (test_images, test_labels) = load_data()\n",
    "\n",
    "# Preprocess the images\n",
    "train_images = preprocess_input(train_images)\n",
    "val_images = preprocess_input(val_images)\n",
    "test_images = preprocess_input(test_images)\n",
    "\n",
    "# Extract color features\n",
    "print(\"Extracting color features...\")\n",
    "train_features = extract_color_features(train_images)\n",
    "val_features = extract_color_features(val_images)\n",
    "test_features = extract_color_features(test_images)\n",
    "\n",
    "# Dataset Statistics\n",
    "n_train = train_labels.shape[0]\n",
    "n_val = val_labels.shape[0]\n",
    "n_test = test_labels.shape[0]\n",
    "\n",
    "print(f\"Number of training examples: {n_train}\")\n",
    "print(f\"Number of validation examples: {n_val}\")\n",
    "print(f\"Number of testing examples: {n_test}\")\n",
    "print(f\"Each image is of size: {IMAGE_SIZE}\")\n",
    "print(f\"Feature vector length: {train_features.shape[1]}\")\n"
   ]
  },
  {
   "cell_type": "code",
   "execution_count": 12,
   "metadata": {},
   "outputs": [
    {
     "name": "stdout",
     "output_type": "stream",
     "text": [
      "Validation Accuracy: 99.77%\n",
      "Validation Classification Report:\n",
      "               precision    recall  f1-score   support\n",
      "\n",
      "           0       1.00      1.00      1.00       265\n",
      "           1       1.00      0.99      1.00       161\n",
      "\n",
      "    accuracy                           1.00       426\n",
      "   macro avg       1.00      1.00      1.00       426\n",
      "weighted avg       1.00      1.00      1.00       426\n",
      "\n",
      "Test Accuracy: 99.53%\n",
      "Test Classification Report:\n",
      "               precision    recall  f1-score   support\n",
      "\n",
      "           0       0.99      1.00      1.00       391\n",
      "           1       1.00      0.99      0.99       248\n",
      "\n",
      "    accuracy                           1.00       639\n",
      "   macro avg       1.00      0.99      1.00       639\n",
      "weighted avg       1.00      1.00      1.00       639\n",
      "\n"
     ]
    },
    {
     "data": {
      "image/png": "[encoded data removed]",
      "text/plain": [
       "<Figure size 800x600 with 2 Axes>"
      ]
     },
     "metadata": {},
     "output_type": "display_data"
    }
   ],
   "source": [
    "from sklearn.ensemble import RandomForestClassifier\n",
    "from sklearn.metrics import accuracy_score, precision_score, recall_score, f1_score, confusion_matrix, classification_report\n",
    "import matplotlib.pyplot as plt\n",
    "import seaborn as sns\n",
    "\n",
    "# Step 1: Initialize and Train the Model\n",
    "classifier = RandomForestClassifier(n_estimators=100, random_state=42, max_depth=10)\n",
    "classifier.fit(train_features, train_labels)\n",
    "\n",
    "# Step 2: Evaluate on Validation Set\n",
    "val_predictions = classifier.predict(val_features)\n",
    "val_accuracy = accuracy_score(val_labels, val_predictions)\n",
    "\n",
    "print(\"Validation Accuracy: {:.2f}%\".format(val_accuracy * 100))\n",
    "print(\"Validation Classification Report:\\n\", classification_report(val_labels, val_predictions))\n",
    "\n",
    "# Step 3: Evaluate on Test Set\n",
    "test_predictions = classifier.predict(test_features)\n",
    "test_accuracy = accuracy_score(test_labels, test_predictions)\n",
    "\n",
    "print(\"Test Accuracy: {:.2f}%\".format(test_accuracy * 100))\n",
    "print(\"Test Classification Report:\\n\", classification_report(test_labels, test_predictions))\n",
    "\n",
    "# Step 4: Plot Confusion Matrix\n",
    "conf_matrix = confusion_matrix(test_labels, test_predictions)\n",
    "plt.figure(figsize=(8, 6))\n",
    "sns.heatmap(conf_matrix, annot=True, fmt=\"d\", cmap=\"Blues\", xticklabels=class_names, yticklabels=class_names)\n",
    "plt.title(\"Confusion Matrix\")\n",
    "plt.ylabel(\"Actual Label\")\n",
    "plt.xlabel(\"Predicted Label\")\n",
    "plt.show()\n"
   ]
  },
  {
   "cell_type": "code",
   "execution_count": 13,
   "metadata": {},
   "outputs": [
    {
     "name": "stdout",
     "output_type": "stream",
     "text": [
      "Cross-Validation Accuracy Scores: [0.99530516 0.99530516 0.99530516 0.99061033 0.99687011]\n",
      "Mean Cross-Validation Accuracy: 99.47%\n",
      "Standard Deviation of CV Accuracy: 0.21%\n"
     ]
    }
   ],
   "source": [
    "from sklearn.model_selection import cross_val_score\n",
    "\n",
    "# Perform 5-Fold Cross-Validation\n",
    "cv_scores = cross_val_score(classifier, train_features, train_labels, cv=5, scoring='accuracy')\n",
    "\n",
    "print(\"Cross-Validation Accuracy Scores:\", cv_scores)\n",
    "print(\"Mean Cross-Validation Accuracy: {:.2f}%\".format(np.mean(cv_scores) * 100))\n",
    "print(\"Standard Deviation of CV Accuracy: {:.2f}%\".format(np.std(cv_scores) * 100))\n"
   ]
  }
 ],
 "metadata": {
  "kernelspec": {
   "display_name": "Python 3",
   "language": "python",
   "name": "python3"
  },
  "language_info": {
   "codemirror_mode": {
    "name": "ipython",
    "version": 3
   },
   "file_extension": ".py",
   "mimetype": "text/x-python",
   "name": "python",
   "nbconvert_exporter": "python",
   "pygments_lexer": "ipython3",
   "version": "3.10.12"
  }
 },
 "nbformat": 4,
 "nbformat_minor": 2
}
